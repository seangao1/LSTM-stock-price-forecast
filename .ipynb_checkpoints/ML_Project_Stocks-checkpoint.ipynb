{
 "cells": [
  {
   "cell_type": "markdown",
   "metadata": {
    "id": "0IpOZbTs9AcJ"
   },
   "source": [
    "Lets import all the pkgs needed"
   ]
  },
  {
   "cell_type": "code",
   "execution_count": 77,
   "metadata": {
    "colab": {
     "background_save": true
    },
    "executionInfo": {
     "elapsed": 5,
     "status": "ok",
     "timestamp": 1638464731206,
     "user": {
      "displayName": "你爹",
      "photoUrl": "https://lh3.googleusercontent.com/a-/AOh14GjCi1okHI2YGXN7X-svX4rhe1BazxDJYLw75LJ42Q=s64",
      "userId": "02963737422131159242"
     },
     "user_tz": 300
    },
    "id": "MRNEiXOW8pj5"
   },
   "outputs": [],
   "source": [
    "import os\n",
    "import pandas as pd\n",
    "import seaborn as sns\n",
    "import numpy as np\n",
    "from scipy import stats\n",
    "from sklearn.tree import DecisionTreeClassifier\n",
    "from sklearn.ensemble import AdaBoostClassifier, BaggingClassifier,BaggingClassifier, RandomForestClassifier, BaggingRegressor, RandomForestRegressor\n",
    "from sklearn.model_selection import train_test_split, cross_val_score,GridSearchCV\n",
    "from sklearn.metrics import accuracy_score\n",
    "from sklearn.linear_model import LinearRegression\n",
    "from sklearn.model_selection import cross_val_score\n",
    "from sklearn.model_selection import RepeatedKFold\n",
    "from sklearn.linear_model import Ridge, Lasso, ElasticNet\n",
    "from sklearn.metrics import mean_squared_error\n",
    "import datetime\n",
    "\n",
    "import matplotlib.pyplot as plt"
   ]
  },
  {
   "cell_type": "code",
   "execution_count": null,
   "metadata": {
    "colab": {
     "background_save": true
    },
    "id": "p8Tf_8BMS_A6"
   },
   "outputs": [],
   "source": []
  },
  {
   "cell_type": "code",
   "execution_count": null,
   "metadata": {
    "colab": {
     "background_save": true
    },
    "id": "9xWiYbaIPnpW"
   },
   "outputs": [],
   "source": [
    "\n"
   ]
  },
  {
   "cell_type": "markdown",
   "metadata": {
    "id": "exhJX5co9oJ5"
   },
   "source": [
    "# New Section"
   ]
  },
  {
   "cell_type": "markdown",
   "metadata": {
    "id": "NMtpZy-z9JMT"
   },
   "source": [
    "We start by reading in the data"
   ]
  },
  {
   "cell_type": "code",
   "execution_count": 78,
   "metadata": {
    "colab": {
     "background_save": true
    },
    "id": "_yPvLaVd9VOe"
   },
   "outputs": [
    {
     "data": {
      "text/html": [
       "<div>\n",
       "<style scoped>\n",
       "    .dataframe tbody tr th:only-of-type {\n",
       "        vertical-align: middle;\n",
       "    }\n",
       "\n",
       "    .dataframe tbody tr th {\n",
       "        vertical-align: top;\n",
       "    }\n",
       "\n",
       "    .dataframe thead th {\n",
       "        text-align: right;\n",
       "    }\n",
       "</style>\n",
       "<table border=\"1\" class=\"dataframe\">\n",
       "  <thead>\n",
       "    <tr style=\"text-align: right;\">\n",
       "      <th></th>\n",
       "      <th>Unnamed: 0</th>\n",
       "      <th>date</th>\n",
       "      <th>IBM_open</th>\n",
       "      <th>IBM_high</th>\n",
       "      <th>IBM_low</th>\n",
       "      <th>IBM_close</th>\n",
       "      <th>IBM_volume</th>\n",
       "      <th>NASDAQ_open</th>\n",
       "      <th>NASDAQ_high</th>\n",
       "      <th>NASDAQ_low</th>\n",
       "      <th>...</th>\n",
       "      <th>NASDAQ_Adj_close</th>\n",
       "      <th>NASDAQ_volume</th>\n",
       "      <th>SP_close</th>\n",
       "      <th>SP_Volume</th>\n",
       "      <th>SP_Open</th>\n",
       "      <th>SP_High</th>\n",
       "      <th>SP_low</th>\n",
       "      <th>interest_rate</th>\n",
       "      <th>gdp</th>\n",
       "      <th>yield_rate</th>\n",
       "    </tr>\n",
       "  </thead>\n",
       "  <tbody>\n",
       "    <tr>\n",
       "      <th>0</th>\n",
       "      <td>0</td>\n",
       "      <td>2012-01-01</td>\n",
       "      <td>NaN</td>\n",
       "      <td>NaN</td>\n",
       "      <td>NaN</td>\n",
       "      <td>NaN</td>\n",
       "      <td>NaN</td>\n",
       "      <td>NaN</td>\n",
       "      <td>NaN</td>\n",
       "      <td>NaN</td>\n",
       "      <td>...</td>\n",
       "      <td>NaN</td>\n",
       "      <td>NaN</td>\n",
       "      <td>NaN</td>\n",
       "      <td>NaN</td>\n",
       "      <td>NaN</td>\n",
       "      <td>NaN</td>\n",
       "      <td>NaN</td>\n",
       "      <td>NaN</td>\n",
       "      <td>16068.824</td>\n",
       "      <td>NaN</td>\n",
       "    </tr>\n",
       "    <tr>\n",
       "      <th>1</th>\n",
       "      <td>1</td>\n",
       "      <td>2012-01-02</td>\n",
       "      <td>NaN</td>\n",
       "      <td>NaN</td>\n",
       "      <td>NaN</td>\n",
       "      <td>NaN</td>\n",
       "      <td>NaN</td>\n",
       "      <td>NaN</td>\n",
       "      <td>NaN</td>\n",
       "      <td>NaN</td>\n",
       "      <td>...</td>\n",
       "      <td>NaN</td>\n",
       "      <td>NaN</td>\n",
       "      <td>1257.60</td>\n",
       "      <td>--</td>\n",
       "      <td>0.00</td>\n",
       "      <td>0.00</td>\n",
       "      <td>0.00</td>\n",
       "      <td>.</td>\n",
       "      <td>16068.824</td>\n",
       "      <td>NaN</td>\n",
       "    </tr>\n",
       "    <tr>\n",
       "      <th>2</th>\n",
       "      <td>2</td>\n",
       "      <td>2012-01-03</td>\n",
       "      <td>124.5256</td>\n",
       "      <td>125.8460</td>\n",
       "      <td>124.0388</td>\n",
       "      <td>124.2388</td>\n",
       "      <td>5646000.0</td>\n",
       "      <td>2657.389893</td>\n",
       "      <td>2665.899902</td>\n",
       "      <td>2641.97998</td>\n",
       "      <td>...</td>\n",
       "      <td>2648.719971</td>\n",
       "      <td>1.636850e+09</td>\n",
       "      <td>1277.06</td>\n",
       "      <td>--</td>\n",
       "      <td>1258.86</td>\n",
       "      <td>1284.62</td>\n",
       "      <td>1258.86</td>\n",
       "      <td>2.01</td>\n",
       "      <td>16068.824</td>\n",
       "      <td>1.97</td>\n",
       "    </tr>\n",
       "    <tr>\n",
       "      <th>3</th>\n",
       "      <td>3</td>\n",
       "      <td>2012-01-04</td>\n",
       "      <td>123.7520</td>\n",
       "      <td>124.2589</td>\n",
       "      <td>123.3319</td>\n",
       "      <td>123.7320</td>\n",
       "      <td>4346700.0</td>\n",
       "      <td>2639.899902</td>\n",
       "      <td>2653.179932</td>\n",
       "      <td>2627.22998</td>\n",
       "      <td>...</td>\n",
       "      <td>2648.360107</td>\n",
       "      <td>1.670530e+09</td>\n",
       "      <td>1277.30</td>\n",
       "      <td>--</td>\n",
       "      <td>1277.03</td>\n",
       "      <td>1278.73</td>\n",
       "      <td>1268.10</td>\n",
       "      <td>2.08</td>\n",
       "      <td>16068.824</td>\n",
       "      <td>2.00</td>\n",
       "    </tr>\n",
       "    <tr>\n",
       "      <th>4</th>\n",
       "      <td>4</td>\n",
       "      <td>2012-01-05</td>\n",
       "      <td>123.2452</td>\n",
       "      <td>123.3919</td>\n",
       "      <td>122.1048</td>\n",
       "      <td>123.1452</td>\n",
       "      <td>4463100.0</td>\n",
       "      <td>2642.570068</td>\n",
       "      <td>2673.560059</td>\n",
       "      <td>2631.22998</td>\n",
       "      <td>...</td>\n",
       "      <td>2669.860107</td>\n",
       "      <td>1.836410e+09</td>\n",
       "      <td>1281.06</td>\n",
       "      <td>--</td>\n",
       "      <td>1277.30</td>\n",
       "      <td>1283.05</td>\n",
       "      <td>1265.26</td>\n",
       "      <td>2.12</td>\n",
       "      <td>16068.824</td>\n",
       "      <td>2.02</td>\n",
       "    </tr>\n",
       "  </tbody>\n",
       "</table>\n",
       "<p>5 rows × 21 columns</p>\n",
       "</div>"
      ],
      "text/plain": [
       "   Unnamed: 0        date  IBM_open  IBM_high   IBM_low  IBM_close  \\\n",
       "0           0  2012-01-01       NaN       NaN       NaN        NaN   \n",
       "1           1  2012-01-02       NaN       NaN       NaN        NaN   \n",
       "2           2  2012-01-03  124.5256  125.8460  124.0388   124.2388   \n",
       "3           3  2012-01-04  123.7520  124.2589  123.3319   123.7320   \n",
       "4           4  2012-01-05  123.2452  123.3919  122.1048   123.1452   \n",
       "\n",
       "   IBM_volume  NASDAQ_open  NASDAQ_high  NASDAQ_low  ...  NASDAQ_Adj_close  \\\n",
       "0         NaN          NaN          NaN         NaN  ...               NaN   \n",
       "1         NaN          NaN          NaN         NaN  ...               NaN   \n",
       "2   5646000.0  2657.389893  2665.899902  2641.97998  ...       2648.719971   \n",
       "3   4346700.0  2639.899902  2653.179932  2627.22998  ...       2648.360107   \n",
       "4   4463100.0  2642.570068  2673.560059  2631.22998  ...       2669.860107   \n",
       "\n",
       "   NASDAQ_volume  SP_close  SP_Volume  SP_Open  SP_High   SP_low  \\\n",
       "0            NaN       NaN        NaN      NaN      NaN      NaN   \n",
       "1            NaN   1257.60         --     0.00     0.00     0.00   \n",
       "2   1.636850e+09   1277.06         --  1258.86  1284.62  1258.86   \n",
       "3   1.670530e+09   1277.30         --  1277.03  1278.73  1268.10   \n",
       "4   1.836410e+09   1281.06         --  1277.30  1283.05  1265.26   \n",
       "\n",
       "   interest_rate        gdp  yield_rate  \n",
       "0            NaN  16068.824         NaN  \n",
       "1              .  16068.824         NaN  \n",
       "2           2.01  16068.824        1.97  \n",
       "3           2.08  16068.824        2.00  \n",
       "4           2.12  16068.824        2.02  \n",
       "\n",
       "[5 rows x 21 columns]"
      ]
     },
     "execution_count": 78,
     "metadata": {},
     "output_type": "execute_result"
    }
   ],
   "source": [
    "data = pd.read_csv(\"final_dataset_stocks.csv\")\n",
    "data.head()"
   ]
  },
  {
   "cell_type": "markdown",
   "metadata": {
    "id": "OAq_WiJO9PNj"
   },
   "source": [
    "We will drop the index column that came with the dataset "
   ]
  },
  {
   "cell_type": "code",
   "execution_count": 79,
   "metadata": {
    "colab": {
     "background_save": true
    },
    "id": "-zp0xJvE9b8X"
   },
   "outputs": [],
   "source": [
    "data.drop(columns=['Unnamed: 0'], inplace=True)"
   ]
  },
  {
   "cell_type": "markdown",
   "metadata": {
    "id": "CvmQrQxY9Ut2"
   },
   "source": [
    "we will drop the rows that includes na"
   ]
  },
  {
   "cell_type": "code",
   "execution_count": 80,
   "metadata": {
    "colab": {
     "background_save": true
    },
    "id": "neA3QBbq9gZi"
   },
   "outputs": [],
   "source": [
    "#The rows with NaN are days when market was closed. I will be deleting those rows.\n",
    "data.dropna(inplace=True)"
   ]
  },
  {
   "cell_type": "code",
   "execution_count": 81,
   "metadata": {
    "colab": {
     "background_save": true
    },
    "id": "NI9ADFAX-LHW"
   },
   "outputs": [
    {
     "data": {
      "text/html": [
       "<div>\n",
       "<style scoped>\n",
       "    .dataframe tbody tr th:only-of-type {\n",
       "        vertical-align: middle;\n",
       "    }\n",
       "\n",
       "    .dataframe tbody tr th {\n",
       "        vertical-align: top;\n",
       "    }\n",
       "\n",
       "    .dataframe thead th {\n",
       "        text-align: right;\n",
       "    }\n",
       "</style>\n",
       "<table border=\"1\" class=\"dataframe\">\n",
       "  <thead>\n",
       "    <tr style=\"text-align: right;\">\n",
       "      <th></th>\n",
       "      <th>date</th>\n",
       "      <th>IBM_open</th>\n",
       "      <th>IBM_high</th>\n",
       "      <th>IBM_low</th>\n",
       "      <th>IBM_close</th>\n",
       "      <th>IBM_volume</th>\n",
       "      <th>NASDAQ_open</th>\n",
       "      <th>NASDAQ_high</th>\n",
       "      <th>NASDAQ_low</th>\n",
       "      <th>NASDAQ_close</th>\n",
       "      <th>NASDAQ_Adj_close</th>\n",
       "      <th>NASDAQ_volume</th>\n",
       "      <th>SP_close</th>\n",
       "      <th>SP_Volume</th>\n",
       "      <th>SP_Open</th>\n",
       "      <th>SP_High</th>\n",
       "      <th>SP_low</th>\n",
       "      <th>interest_rate</th>\n",
       "      <th>gdp</th>\n",
       "      <th>yield_rate</th>\n",
       "    </tr>\n",
       "  </thead>\n",
       "  <tbody>\n",
       "    <tr>\n",
       "      <th>2</th>\n",
       "      <td>2012-01-03</td>\n",
       "      <td>124.5256</td>\n",
       "      <td>125.8460</td>\n",
       "      <td>124.0388</td>\n",
       "      <td>124.2388</td>\n",
       "      <td>5646000.0</td>\n",
       "      <td>2657.389893</td>\n",
       "      <td>2665.899902</td>\n",
       "      <td>2641.979980</td>\n",
       "      <td>2648.719971</td>\n",
       "      <td>2648.719971</td>\n",
       "      <td>1.636850e+09</td>\n",
       "      <td>1277.06</td>\n",
       "      <td>--</td>\n",
       "      <td>1258.86</td>\n",
       "      <td>1284.62</td>\n",
       "      <td>1258.86</td>\n",
       "      <td>2.01</td>\n",
       "      <td>16068.824</td>\n",
       "      <td>1.97</td>\n",
       "    </tr>\n",
       "    <tr>\n",
       "      <th>3</th>\n",
       "      <td>2012-01-04</td>\n",
       "      <td>123.7520</td>\n",
       "      <td>124.2589</td>\n",
       "      <td>123.3319</td>\n",
       "      <td>123.7320</td>\n",
       "      <td>4346700.0</td>\n",
       "      <td>2639.899902</td>\n",
       "      <td>2653.179932</td>\n",
       "      <td>2627.229980</td>\n",
       "      <td>2648.360107</td>\n",
       "      <td>2648.360107</td>\n",
       "      <td>1.670530e+09</td>\n",
       "      <td>1277.30</td>\n",
       "      <td>--</td>\n",
       "      <td>1277.03</td>\n",
       "      <td>1278.73</td>\n",
       "      <td>1268.10</td>\n",
       "      <td>2.08</td>\n",
       "      <td>16068.824</td>\n",
       "      <td>2.00</td>\n",
       "    </tr>\n",
       "    <tr>\n",
       "      <th>4</th>\n",
       "      <td>2012-01-05</td>\n",
       "      <td>123.2452</td>\n",
       "      <td>123.3919</td>\n",
       "      <td>122.1048</td>\n",
       "      <td>123.1452</td>\n",
       "      <td>4463100.0</td>\n",
       "      <td>2642.570068</td>\n",
       "      <td>2673.560059</td>\n",
       "      <td>2631.229980</td>\n",
       "      <td>2669.860107</td>\n",
       "      <td>2669.860107</td>\n",
       "      <td>1.836410e+09</td>\n",
       "      <td>1281.06</td>\n",
       "      <td>--</td>\n",
       "      <td>1277.30</td>\n",
       "      <td>1283.05</td>\n",
       "      <td>1265.26</td>\n",
       "      <td>2.12</td>\n",
       "      <td>16068.824</td>\n",
       "      <td>2.02</td>\n",
       "    </tr>\n",
       "    <tr>\n",
       "      <th>5</th>\n",
       "      <td>2012-01-06</td>\n",
       "      <td>122.9651</td>\n",
       "      <td>123.0251</td>\n",
       "      <td>121.5780</td>\n",
       "      <td>121.7314</td>\n",
       "      <td>4897100.0</td>\n",
       "      <td>2671.169922</td>\n",
       "      <td>2682.120117</td>\n",
       "      <td>2658.830078</td>\n",
       "      <td>2674.219971</td>\n",
       "      <td>2674.219971</td>\n",
       "      <td>1.683090e+09</td>\n",
       "      <td>1277.81</td>\n",
       "      <td>--</td>\n",
       "      <td>1280.93</td>\n",
       "      <td>1281.84</td>\n",
       "      <td>1273.34</td>\n",
       "      <td>2.09</td>\n",
       "      <td>16068.824</td>\n",
       "      <td>1.98</td>\n",
       "    </tr>\n",
       "    <tr>\n",
       "      <th>8</th>\n",
       "      <td>2012-01-09</td>\n",
       "      <td>121.5047</td>\n",
       "      <td>121.5513</td>\n",
       "      <td>120.2176</td>\n",
       "      <td>121.0979</td>\n",
       "      <td>5201200.0</td>\n",
       "      <td>2682.979980</td>\n",
       "      <td>2683.780029</td>\n",
       "      <td>2662.959961</td>\n",
       "      <td>2676.560059</td>\n",
       "      <td>2676.560059</td>\n",
       "      <td>1.768080e+09</td>\n",
       "      <td>1280.70</td>\n",
       "      <td>--</td>\n",
       "      <td>1277.83</td>\n",
       "      <td>1281.99</td>\n",
       "      <td>1274.55</td>\n",
       "      <td>2.11</td>\n",
       "      <td>16068.824</td>\n",
       "      <td>1.98</td>\n",
       "    </tr>\n",
       "  </tbody>\n",
       "</table>\n",
       "</div>"
      ],
      "text/plain": [
       "         date  IBM_open  IBM_high   IBM_low  IBM_close  IBM_volume  \\\n",
       "2  2012-01-03  124.5256  125.8460  124.0388   124.2388   5646000.0   \n",
       "3  2012-01-04  123.7520  124.2589  123.3319   123.7320   4346700.0   \n",
       "4  2012-01-05  123.2452  123.3919  122.1048   123.1452   4463100.0   \n",
       "5  2012-01-06  122.9651  123.0251  121.5780   121.7314   4897100.0   \n",
       "8  2012-01-09  121.5047  121.5513  120.2176   121.0979   5201200.0   \n",
       "\n",
       "   NASDAQ_open  NASDAQ_high   NASDAQ_low  NASDAQ_close  NASDAQ_Adj_close  \\\n",
       "2  2657.389893  2665.899902  2641.979980   2648.719971       2648.719971   \n",
       "3  2639.899902  2653.179932  2627.229980   2648.360107       2648.360107   \n",
       "4  2642.570068  2673.560059  2631.229980   2669.860107       2669.860107   \n",
       "5  2671.169922  2682.120117  2658.830078   2674.219971       2674.219971   \n",
       "8  2682.979980  2683.780029  2662.959961   2676.560059       2676.560059   \n",
       "\n",
       "   NASDAQ_volume  SP_close SP_Volume  SP_Open  SP_High   SP_low interest_rate  \\\n",
       "2   1.636850e+09   1277.06        --  1258.86  1284.62  1258.86          2.01   \n",
       "3   1.670530e+09   1277.30        --  1277.03  1278.73  1268.10          2.08   \n",
       "4   1.836410e+09   1281.06        --  1277.30  1283.05  1265.26          2.12   \n",
       "5   1.683090e+09   1277.81        --  1280.93  1281.84  1273.34          2.09   \n",
       "8   1.768080e+09   1280.70        --  1277.83  1281.99  1274.55          2.11   \n",
       "\n",
       "         gdp yield_rate  \n",
       "2  16068.824       1.97  \n",
       "3  16068.824       2.00  \n",
       "4  16068.824       2.02  \n",
       "5  16068.824       1.98  \n",
       "8  16068.824       1.98  "
      ]
     },
     "execution_count": 81,
     "metadata": {},
     "output_type": "execute_result"
    }
   ],
   "source": [
    "data.head()"
   ]
  },
  {
   "cell_type": "markdown",
   "metadata": {
    "id": "RlrGZEjRBKbt"
   },
   "source": [
    "Even though we have removed null values, there still might be wrong non-numeric values here. Let's look at those dtypes."
   ]
  },
  {
   "cell_type": "code",
   "execution_count": 82,
   "metadata": {
    "colab": {
     "background_save": true
    },
    "id": "I4LrE5LaBPlV"
   },
   "outputs": [
    {
     "data": {
      "text/html": [
       "<div>\n",
       "<style scoped>\n",
       "    .dataframe tbody tr th:only-of-type {\n",
       "        vertical-align: middle;\n",
       "    }\n",
       "\n",
       "    .dataframe tbody tr th {\n",
       "        vertical-align: top;\n",
       "    }\n",
       "\n",
       "    .dataframe thead th {\n",
       "        text-align: right;\n",
       "    }\n",
       "</style>\n",
       "<table border=\"1\" class=\"dataframe\">\n",
       "  <thead>\n",
       "    <tr style=\"text-align: right;\">\n",
       "      <th></th>\n",
       "      <th>date</th>\n",
       "      <th>SP_Volume</th>\n",
       "      <th>interest_rate</th>\n",
       "      <th>yield_rate</th>\n",
       "    </tr>\n",
       "  </thead>\n",
       "  <tbody>\n",
       "    <tr>\n",
       "      <th>2</th>\n",
       "      <td>2012-01-03</td>\n",
       "      <td>--</td>\n",
       "      <td>2.01</td>\n",
       "      <td>1.97</td>\n",
       "    </tr>\n",
       "    <tr>\n",
       "      <th>3</th>\n",
       "      <td>2012-01-04</td>\n",
       "      <td>--</td>\n",
       "      <td>2.08</td>\n",
       "      <td>2.00</td>\n",
       "    </tr>\n",
       "    <tr>\n",
       "      <th>4</th>\n",
       "      <td>2012-01-05</td>\n",
       "      <td>--</td>\n",
       "      <td>2.12</td>\n",
       "      <td>2.02</td>\n",
       "    </tr>\n",
       "    <tr>\n",
       "      <th>5</th>\n",
       "      <td>2012-01-06</td>\n",
       "      <td>--</td>\n",
       "      <td>2.09</td>\n",
       "      <td>1.98</td>\n",
       "    </tr>\n",
       "    <tr>\n",
       "      <th>8</th>\n",
       "      <td>2012-01-09</td>\n",
       "      <td>--</td>\n",
       "      <td>2.11</td>\n",
       "      <td>1.98</td>\n",
       "    </tr>\n",
       "    <tr>\n",
       "      <th>...</th>\n",
       "      <td>...</td>\n",
       "      <td>...</td>\n",
       "      <td>...</td>\n",
       "      <td>...</td>\n",
       "    </tr>\n",
       "    <tr>\n",
       "      <th>3601</th>\n",
       "      <td>2021-11-10</td>\n",
       "      <td>--</td>\n",
       "      <td>2.7</td>\n",
       "      <td>1.56</td>\n",
       "    </tr>\n",
       "    <tr>\n",
       "      <th>3602</th>\n",
       "      <td>2021-11-11</td>\n",
       "      <td>--</td>\n",
       "      <td>.</td>\n",
       "      <td>.</td>\n",
       "    </tr>\n",
       "    <tr>\n",
       "      <th>3603</th>\n",
       "      <td>2021-11-12</td>\n",
       "      <td>--</td>\n",
       "      <td>2.73</td>\n",
       "      <td>1.58</td>\n",
       "    </tr>\n",
       "    <tr>\n",
       "      <th>3606</th>\n",
       "      <td>2021-11-15</td>\n",
       "      <td>--</td>\n",
       "      <td>2.76</td>\n",
       "      <td>1.63</td>\n",
       "    </tr>\n",
       "    <tr>\n",
       "      <th>3607</th>\n",
       "      <td>2021-11-16</td>\n",
       "      <td>--</td>\n",
       "      <td>2.73</td>\n",
       "      <td>1.63</td>\n",
       "    </tr>\n",
       "  </tbody>\n",
       "</table>\n",
       "<p>2486 rows × 4 columns</p>\n",
       "</div>"
      ],
      "text/plain": [
       "            date SP_Volume interest_rate yield_rate\n",
       "2     2012-01-03        --          2.01       1.97\n",
       "3     2012-01-04        --          2.08       2.00\n",
       "4     2012-01-05        --          2.12       2.02\n",
       "5     2012-01-06        --          2.09       1.98\n",
       "8     2012-01-09        --          2.11       1.98\n",
       "...          ...       ...           ...        ...\n",
       "3601  2021-11-10        --           2.7       1.56\n",
       "3602  2021-11-11        --             .          .\n",
       "3603  2021-11-12        --          2.73       1.58\n",
       "3606  2021-11-15        --          2.76       1.63\n",
       "3607  2021-11-16        --          2.73       1.63\n",
       "\n",
       "[2486 rows x 4 columns]"
      ]
     },
     "execution_count": 82,
     "metadata": {},
     "output_type": "execute_result"
    }
   ],
   "source": [
    "data.select_dtypes(include=[object])"
   ]
  },
  {
   "cell_type": "code",
   "execution_count": 83,
   "metadata": {
    "colab": {
     "background_save": true
    },
    "id": "ltfGdBJxBSYu"
   },
   "outputs": [
    {
     "data": {
      "text/plain": [
       "--    2486\n",
       "Name: SP_Volume, dtype: int64"
      ]
     },
     "execution_count": 83,
     "metadata": {},
     "output_type": "execute_result"
    }
   ],
   "source": [
    "data['SP_Volume'].value_counts()"
   ]
  },
  {
   "cell_type": "markdown",
   "metadata": {
    "id": "3tyCy-YSBZCj"
   },
   "source": [
    "Since all values are null, we will drop this column."
   ]
  },
  {
   "cell_type": "code",
   "execution_count": 84,
   "metadata": {
    "colab": {
     "background_save": true
    },
    "id": "TGKJYnciBbXz"
   },
   "outputs": [],
   "source": [
    "data.drop(columns=['SP_Volume'], inplace=True)"
   ]
  },
  {
   "cell_type": "markdown",
   "metadata": {
    "id": "_Q44qPzTB0FE"
   },
   "source": [
    "Next, we can notice some values in columns 'interest_rate' and 'yeild_rate' are \".\"\n",
    "\n",
    "Let us replace it by the next numeric value in the series."
   ]
  },
  {
   "cell_type": "code",
   "execution_count": 85,
   "metadata": {
    "colab": {
     "background_save": true
    },
    "id": "2gf3KcxsDJkp"
   },
   "outputs": [],
   "source": [
    "#Replacing values in yield_curves\n",
    "for i in range(len(data)):\n",
    "  if data.iloc[i,-1] == '.':\n",
    "    data.iloc[i,-1] = data.iloc[i + 1,-1] "
   ]
  },
  {
   "cell_type": "code",
   "execution_count": 86,
   "metadata": {
    "colab": {
     "background_save": true
    },
    "id": "6w8m0zs_DsCV"
   },
   "outputs": [
    {
     "data": {
      "text/plain": [
       "16"
      ]
     },
     "execution_count": 86,
     "metadata": {},
     "output_type": "execute_result"
    }
   ],
   "source": [
    "\n",
    "data.columns.get_loc(\"interest_rate\")"
   ]
  },
  {
   "cell_type": "code",
   "execution_count": 87,
   "metadata": {
    "colab": {
     "background_save": true
    },
    "id": "D-m6qT3kDiT8"
   },
   "outputs": [],
   "source": [
    "#Replacing values in interest rate\n",
    "for i in range(len(data)):\n",
    "  if data.iloc[i,16] == '.':\n",
    "    data.iloc[i,16] = data.iloc[i + 1,16] "
   ]
  },
  {
   "cell_type": "code",
   "execution_count": 88,
   "metadata": {
    "colab": {
     "background_save": true
    },
    "id": "8MXCcPaSD-ER"
   },
   "outputs": [],
   "source": [
    "#Converting the above columns into float\n",
    "data['yield_rate'] = data['yield_rate'].astype('float')\n",
    "data['interest_rate'] = data['interest_rate'].astype('float')"
   ]
  },
  {
   "cell_type": "code",
   "execution_count": 89,
   "metadata": {
    "colab": {
     "background_save": true
    },
    "id": "HOJY2EdlE7yA"
   },
   "outputs": [],
   "source": [
    "#Finally lets convert date string to datetime format\n",
    "#for i in range(len(data)):\n",
    "  #data.iloc[i,0] = datetime.datetime.strptime(data.iloc[i,0], '%Y-%m-%d')\n",
    "\n",
    "data['date'] = pd.to_numeric(pd.to_datetime(data['date']))"
   ]
  },
  {
   "cell_type": "code",
   "execution_count": 90,
   "metadata": {
    "colab": {
     "background_save": true
    },
    "id": "cjdGzLv7Fvnn"
   },
   "outputs": [
    {
     "data": {
      "text/html": [
       "<div>\n",
       "<style scoped>\n",
       "    .dataframe tbody tr th:only-of-type {\n",
       "        vertical-align: middle;\n",
       "    }\n",
       "\n",
       "    .dataframe tbody tr th {\n",
       "        vertical-align: top;\n",
       "    }\n",
       "\n",
       "    .dataframe thead th {\n",
       "        text-align: right;\n",
       "    }\n",
       "</style>\n",
       "<table border=\"1\" class=\"dataframe\">\n",
       "  <thead>\n",
       "    <tr style=\"text-align: right;\">\n",
       "      <th></th>\n",
       "      <th>date</th>\n",
       "      <th>IBM_open</th>\n",
       "      <th>IBM_high</th>\n",
       "      <th>IBM_low</th>\n",
       "      <th>IBM_close</th>\n",
       "      <th>IBM_volume</th>\n",
       "      <th>NASDAQ_open</th>\n",
       "      <th>NASDAQ_high</th>\n",
       "      <th>NASDAQ_low</th>\n",
       "      <th>NASDAQ_close</th>\n",
       "      <th>NASDAQ_Adj_close</th>\n",
       "      <th>NASDAQ_volume</th>\n",
       "      <th>SP_close</th>\n",
       "      <th>SP_Open</th>\n",
       "      <th>SP_High</th>\n",
       "      <th>SP_low</th>\n",
       "      <th>interest_rate</th>\n",
       "      <th>gdp</th>\n",
       "      <th>yield_rate</th>\n",
       "    </tr>\n",
       "  </thead>\n",
       "  <tbody>\n",
       "    <tr>\n",
       "      <th>2</th>\n",
       "      <td>1325548800000000000</td>\n",
       "      <td>124.5256</td>\n",
       "      <td>125.8460</td>\n",
       "      <td>124.0388</td>\n",
       "      <td>124.2388</td>\n",
       "      <td>5646000.0</td>\n",
       "      <td>2657.389893</td>\n",
       "      <td>2665.899902</td>\n",
       "      <td>2641.979980</td>\n",
       "      <td>2648.719971</td>\n",
       "      <td>2648.719971</td>\n",
       "      <td>1.636850e+09</td>\n",
       "      <td>1277.06</td>\n",
       "      <td>1258.86</td>\n",
       "      <td>1284.62</td>\n",
       "      <td>1258.86</td>\n",
       "      <td>2.01</td>\n",
       "      <td>16068.824</td>\n",
       "      <td>1.97</td>\n",
       "    </tr>\n",
       "    <tr>\n",
       "      <th>3</th>\n",
       "      <td>1325635200000000000</td>\n",
       "      <td>123.7520</td>\n",
       "      <td>124.2589</td>\n",
       "      <td>123.3319</td>\n",
       "      <td>123.7320</td>\n",
       "      <td>4346700.0</td>\n",
       "      <td>2639.899902</td>\n",
       "      <td>2653.179932</td>\n",
       "      <td>2627.229980</td>\n",
       "      <td>2648.360107</td>\n",
       "      <td>2648.360107</td>\n",
       "      <td>1.670530e+09</td>\n",
       "      <td>1277.30</td>\n",
       "      <td>1277.03</td>\n",
       "      <td>1278.73</td>\n",
       "      <td>1268.10</td>\n",
       "      <td>2.08</td>\n",
       "      <td>16068.824</td>\n",
       "      <td>2.00</td>\n",
       "    </tr>\n",
       "    <tr>\n",
       "      <th>4</th>\n",
       "      <td>1325721600000000000</td>\n",
       "      <td>123.2452</td>\n",
       "      <td>123.3919</td>\n",
       "      <td>122.1048</td>\n",
       "      <td>123.1452</td>\n",
       "      <td>4463100.0</td>\n",
       "      <td>2642.570068</td>\n",
       "      <td>2673.560059</td>\n",
       "      <td>2631.229980</td>\n",
       "      <td>2669.860107</td>\n",
       "      <td>2669.860107</td>\n",
       "      <td>1.836410e+09</td>\n",
       "      <td>1281.06</td>\n",
       "      <td>1277.30</td>\n",
       "      <td>1283.05</td>\n",
       "      <td>1265.26</td>\n",
       "      <td>2.12</td>\n",
       "      <td>16068.824</td>\n",
       "      <td>2.02</td>\n",
       "    </tr>\n",
       "    <tr>\n",
       "      <th>5</th>\n",
       "      <td>1325808000000000000</td>\n",
       "      <td>122.9651</td>\n",
       "      <td>123.0251</td>\n",
       "      <td>121.5780</td>\n",
       "      <td>121.7314</td>\n",
       "      <td>4897100.0</td>\n",
       "      <td>2671.169922</td>\n",
       "      <td>2682.120117</td>\n",
       "      <td>2658.830078</td>\n",
       "      <td>2674.219971</td>\n",
       "      <td>2674.219971</td>\n",
       "      <td>1.683090e+09</td>\n",
       "      <td>1277.81</td>\n",
       "      <td>1280.93</td>\n",
       "      <td>1281.84</td>\n",
       "      <td>1273.34</td>\n",
       "      <td>2.09</td>\n",
       "      <td>16068.824</td>\n",
       "      <td>1.98</td>\n",
       "    </tr>\n",
       "    <tr>\n",
       "      <th>8</th>\n",
       "      <td>1326067200000000000</td>\n",
       "      <td>121.5047</td>\n",
       "      <td>121.5513</td>\n",
       "      <td>120.2176</td>\n",
       "      <td>121.0979</td>\n",
       "      <td>5201200.0</td>\n",
       "      <td>2682.979980</td>\n",
       "      <td>2683.780029</td>\n",
       "      <td>2662.959961</td>\n",
       "      <td>2676.560059</td>\n",
       "      <td>2676.560059</td>\n",
       "      <td>1.768080e+09</td>\n",
       "      <td>1280.70</td>\n",
       "      <td>1277.83</td>\n",
       "      <td>1281.99</td>\n",
       "      <td>1274.55</td>\n",
       "      <td>2.11</td>\n",
       "      <td>16068.824</td>\n",
       "      <td>1.98</td>\n",
       "    </tr>\n",
       "  </tbody>\n",
       "</table>\n",
       "</div>"
      ],
      "text/plain": [
       "                  date  IBM_open  IBM_high   IBM_low  IBM_close  IBM_volume  \\\n",
       "2  1325548800000000000  124.5256  125.8460  124.0388   124.2388   5646000.0   \n",
       "3  1325635200000000000  123.7520  124.2589  123.3319   123.7320   4346700.0   \n",
       "4  1325721600000000000  123.2452  123.3919  122.1048   123.1452   4463100.0   \n",
       "5  1325808000000000000  122.9651  123.0251  121.5780   121.7314   4897100.0   \n",
       "8  1326067200000000000  121.5047  121.5513  120.2176   121.0979   5201200.0   \n",
       "\n",
       "   NASDAQ_open  NASDAQ_high   NASDAQ_low  NASDAQ_close  NASDAQ_Adj_close  \\\n",
       "2  2657.389893  2665.899902  2641.979980   2648.719971       2648.719971   \n",
       "3  2639.899902  2653.179932  2627.229980   2648.360107       2648.360107   \n",
       "4  2642.570068  2673.560059  2631.229980   2669.860107       2669.860107   \n",
       "5  2671.169922  2682.120117  2658.830078   2674.219971       2674.219971   \n",
       "8  2682.979980  2683.780029  2662.959961   2676.560059       2676.560059   \n",
       "\n",
       "   NASDAQ_volume  SP_close  SP_Open  SP_High   SP_low  interest_rate  \\\n",
       "2   1.636850e+09   1277.06  1258.86  1284.62  1258.86           2.01   \n",
       "3   1.670530e+09   1277.30  1277.03  1278.73  1268.10           2.08   \n",
       "4   1.836410e+09   1281.06  1277.30  1283.05  1265.26           2.12   \n",
       "5   1.683090e+09   1277.81  1280.93  1281.84  1273.34           2.09   \n",
       "8   1.768080e+09   1280.70  1277.83  1281.99  1274.55           2.11   \n",
       "\n",
       "         gdp  yield_rate  \n",
       "2  16068.824        1.97  \n",
       "3  16068.824        2.00  \n",
       "4  16068.824        2.02  \n",
       "5  16068.824        1.98  \n",
       "8  16068.824        1.98  "
      ]
     },
     "execution_count": 90,
     "metadata": {},
     "output_type": "execute_result"
    }
   ],
   "source": [
    "data.head()"
   ]
  },
  {
   "cell_type": "markdown",
   "metadata": {
    "id": "RU3N6_fHTHpk"
   },
   "source": [
    "Now, let us split the data into X and y. Since we are trying to predict the price of the Closing price of the IBM stock, we will make our split accordingly."
   ]
  },
  {
   "cell_type": "code",
   "execution_count": 91,
   "metadata": {
    "colab": {
     "background_save": true
    },
    "id": "hjwIJQ3ZTKtb"
   },
   "outputs": [],
   "source": [
    "X = data.drop(columns =['IBM_close'])\n",
    "y = data.IBM_close.values\n"
   ]
  },
  {
   "cell_type": "markdown",
   "metadata": {
    "id": "iatQ8xiZVSMs"
   },
   "source": [
    "Using sklearn, we will create a train_test_split."
   ]
  },
  {
   "cell_type": "code",
   "execution_count": 92,
   "metadata": {
    "colab": {
     "background_save": true
    },
    "id": "Zd6eIKdKVRgc"
   },
   "outputs": [],
   "source": [
    "X_train, X_test, y_train, y_test = train_test_split(X, y, test_size=0.3, random_state=0)"
   ]
  },
  {
   "cell_type": "markdown",
   "metadata": {
    "id": "UPaqZOfGiGzs"
   },
   "source": [
    "We will use the train data to build a linear regression\n"
   ]
  },
  {
   "cell_type": "code",
   "execution_count": 93,
   "metadata": {
    "colab": {
     "background_save": true
    },
    "id": "yBcVcH8Ki3RX"
   },
   "outputs": [
    {
     "name": "stdout",
     "output_type": "stream",
     "text": [
      "(6.073334662935707, 0.37511232198875466)\n",
      "[120.62078966 112.45546312 131.63881976 131.50574025 117.95023467\n",
      " 118.55361901 117.73053409 115.71729624 115.33917919 111.87791342\n",
      " 112.74687667 111.88557633 118.17654385 115.63466771 128.15038089\n",
      " 114.00272869 118.70462872 117.15992299 127.94798929 127.0403712\n",
      " 118.31802769 115.86970303 109.7260114  126.31174576 130.93897422\n",
      " 115.13592669 128.57326589 114.11888264 118.4640454  115.01754263\n",
      " 117.28841688 119.92733529 129.12662628 108.56728828 117.34713327\n",
      " 130.05033074 109.24957378 130.96661969 119.76404716 118.18865965\n",
      " 128.33665386 129.61380918 112.54610644 116.67185857 114.76825196\n",
      " 108.27722133 118.46419363 112.87777556 119.49758567 129.40530732\n",
      " 127.40338789 123.75646196 129.1664005  117.19194966 118.69381369\n",
      " 128.04060588 118.59265478 130.39749624 112.51458515 118.38678432\n",
      " 129.04387596 104.71199326 124.96050949 126.84215138 127.86563158\n",
      " 112.17327198 126.99041136 112.46658198 130.74368572 116.66572366\n",
      " 117.59092582 108.84469018 105.35750031 115.85613777 104.54757698\n",
      " 116.47172393 125.1273068  117.72804978 127.12073692 129.93907514\n",
      " 121.23536537 118.09830539 124.1431337  111.3211629  128.14535642\n",
      " 114.94013784 126.11336619 110.82603628 126.65455434 120.26175069\n",
      " 116.16205834 133.83006449 117.21888754 112.35478067 128.59162169\n",
      " 102.87527441 129.96448168 127.94386668 114.0489835  129.06253381\n",
      " 125.34530488 130.50709466 110.65388157 130.48323141 132.33880135\n",
      " 115.27987685 129.33867193 108.25099755 115.94011074 131.42315155\n",
      " 106.37783002 114.67119057 100.59524324 120.76482162 117.7910094\n",
      " 117.17416941 116.69874291 111.62878309 128.59476973 116.41988027\n",
      " 128.60685518 108.28373696 111.38096314 108.32038878 117.49609109\n",
      " 114.67841423 124.82719083 103.15001122 130.9044573  117.54236701\n",
      " 123.03478275 126.87682241 117.2853235  114.92783806 113.52177457\n",
      " 129.76979958 133.83159519 129.14974409 129.11111866 129.74261721\n",
      " 129.12091429 117.10191264 117.22239814 129.41688762 123.61594042\n",
      " 116.9751209  103.0589824   83.56142353 128.33870037 118.1759072\n",
      " 137.82537428 128.38742889 118.40385193 109.43447785 127.52621764\n",
      " 130.11784334 128.85436108 130.69057253 116.80130701 125.33272914\n",
      " 119.52241765 129.45274233 117.9526604  128.59820749 112.47211662\n",
      " 111.26328129 112.39815351 130.56233953 127.49024781 107.643201\n",
      " 117.12803907 110.41633938 119.99488961 117.85807558 128.95365321\n",
      " 131.26606591 117.12202381 132.17887535 116.37624289 127.66588021\n",
      " 128.00197352 125.67005087 130.81242544 130.35253004 130.18009136\n",
      " 123.93197044 113.46070939 114.62016326 116.80286643 111.75183792\n",
      " 115.50966939 111.05733781 114.89235098 103.66981113 128.66932338\n",
      " 114.1898012  120.78437831 129.24248759 125.48342772 129.83701711\n",
      " 117.18240005 118.77881491 122.50261218 117.57508976 125.33882471\n",
      " 127.73874894 129.22769508 117.75441234 117.7400316  117.24488081\n",
      " 112.57406407 121.79993476 117.54739643 117.4102623  135.72227338\n",
      " 103.03721864 119.74079655 103.6395679  120.76796022 128.67780674\n",
      " 115.47558112 107.30273151 128.06733152 103.27845414 117.76975349\n",
      " 120.06096744 118.00184274 117.03964542 128.28225322 125.70190885\n",
      " 130.88244189 116.67540223 128.54458282 118.21762583 130.02939013\n",
      " 136.15564781 129.95021242 126.53684722 133.00942557 115.76366963\n",
      " 129.91867747 131.54464869 113.11371615 112.06044119 111.92849855\n",
      " 125.69350833 127.64223967 127.61045927 131.52915509 118.33283671\n",
      " 118.291123   114.75504612 106.60009522 128.39625897 126.04988427\n",
      " 118.16003426 118.43095969 117.99214405 114.46675116 119.00483249\n",
      " 102.88646885 127.66724076 113.29969042 104.01944539 120.59645647\n",
      " 131.25760344 117.26717523 120.97614407 127.49529938 131.32581936\n",
      " 117.64618457 131.5422581  118.43177346 129.36455338 126.17351763\n",
      " 127.07545197 119.77802907 116.85030651 127.45161571 116.06926748\n",
      " 107.6049092  115.12718748 113.93364264 129.52083676 118.59760008\n",
      " 115.50439151 134.15937524 119.81465451 119.49349579 126.37451019\n",
      " 119.64286717 116.90321543 129.35007296 129.08667077 116.37574756\n",
      " 126.96659723 128.83782117 131.11191987 129.71876459 117.75454271\n",
      " 107.94864417 115.67729811 114.61707931 118.6547574  117.20198036\n",
      " 114.72095081 130.04803556 107.66319855 111.92630916 130.27989136\n",
      " 130.08592906 118.31977378 118.47019892 111.46181422 111.21047697\n",
      " 129.19655298 117.17048343 116.70522409 108.34826844 121.98139391\n",
      " 114.38760705 127.47660411 126.00238057 117.93628512 128.50262666\n",
      " 117.99902435 133.43300154 136.41236841 117.83315709 128.23369992\n",
      " 130.68676241 130.42190119 104.88635966 119.08483424 122.0379674\n",
      " 128.68220155 129.72141463 131.54957035 112.91978887 120.32450021\n",
      " 131.27691576 127.79172835 119.64470192 114.02138646 116.38814778\n",
      " 127.3607376  125.25589515 121.04250956 107.9394822  122.36791492\n",
      " 128.43151177 100.30549872 127.68512992 118.70529223 125.75064199\n",
      " 128.83553026 107.32902341 117.56595273 119.47170617 118.43664702\n",
      " 116.29818116 125.96230362 131.56678447 107.37247125 130.07615298\n",
      " 121.86524299 128.84733392 130.9415689  118.96127302 113.53700754\n",
      " 121.91153003 114.8468948  130.8153151  119.10832292 119.99977441\n",
      " 126.93180469 133.46531908 115.40327228 108.59450382 125.84766954\n",
      " 116.96252811 129.37389397 112.80717879 116.0916879  117.29287563\n",
      " 129.44902244 126.6365938  116.37058914 127.39870098 115.77113214\n",
      " 105.31954352 129.66763428 130.33394747 118.62652786 130.26704657\n",
      " 112.50919979 114.95814984 109.10557069 117.07253203 121.97125228\n",
      " 129.78986175 115.61348285 117.22967    112.57219367 117.99573601\n",
      " 132.06021819 118.52597598 117.71093381 118.42193841 112.66700131\n",
      " 118.29293745 129.26158734 118.25328453 114.35632231 119.97106571\n",
      " 137.27578133 118.97943299 118.81745759 132.3386512  114.98684889\n",
      " 128.02493934 119.87683671 113.19298841 118.56933177 118.66635739\n",
      " 130.64867107 129.0857198  119.45499972 131.3897286  117.65294234\n",
      " 128.86165389 118.53059234 119.51342461 124.17088552 124.86786784\n",
      " 130.35210229 120.72307969 121.37680877 128.60263978 112.66323922\n",
      " 116.97866148 113.20448184 128.03562874 123.68595613 127.07245838\n",
      " 128.60166727 116.025959   130.98638923 129.76621027 124.44152353\n",
      " 130.29373798 119.14425905 118.49084511 116.6527299  128.33005225\n",
      " 116.32964323 128.08459677 117.53222199 120.68829259 108.28773672\n",
      " 113.84844719 124.59990733 117.80036094 117.97777096 118.71663985\n",
      " 129.47346112 129.84789972 131.78860215 125.64614634 130.93253034\n",
      " 118.02193261 126.06679762 127.97398581 120.79615108 120.91319302\n",
      " 131.1720772  114.24963388 112.295851   127.45688025 129.10954128\n",
      " 131.61239961 117.80432906 128.1688526  120.38918894 110.37556729\n",
      " 109.38848206 112.53756664 116.23619757 127.71424009  84.9281742\n",
      " 114.54274822 128.8537255  119.51935841 116.08974237 129.28075012\n",
      " 119.15108871 129.07893917 113.36171545 113.59287884 118.16082579\n",
      " 117.33458625 114.72452432 112.54894341 116.09127468 116.61290991\n",
      " 102.72380132 117.19862124 119.43209573 127.77427294 127.38089957\n",
      " 111.80120773 127.65427278 130.55225867 128.29058038 128.0533151\n",
      " 117.71407249 117.82891888 134.25022332 118.95949376 118.60068162\n",
      " 104.1251152  123.74518135 110.78041911 128.38983244 135.34952741\n",
      " 119.7815935  102.53759984 129.53156931 118.18299596 127.58781828\n",
      " 130.8278112  129.35591691 123.29590479 126.31183089 119.49240349\n",
      " 115.49340768 113.38244573 110.30754955 129.97888965 108.75110265\n",
      " 125.06592926 124.07944698 116.39643659 118.7566183  118.3518706\n",
      " 129.03402287 114.68392131 131.69788775 117.94949772 130.96670963\n",
      " 129.49613132 129.83131919 118.44310123 129.86945163 128.25825234\n",
      " 119.10637817 111.84516253 125.32907431 116.80456621 129.80454938\n",
      "  91.65847408 114.8266542  113.10756776 114.59158679 127.59707145\n",
      " 121.13886169 127.57181674 112.79888347 130.69627067 129.00442762\n",
      " 114.74245343 118.92309702 127.19787926 118.55766233 128.38575461\n",
      " 129.22303406 112.54003093 127.17019496 115.68762097 124.08927188\n",
      " 118.72917108 119.89601801 128.40911379 120.94389534 135.36255412\n",
      " 112.98469328 110.76405417 117.06447599 119.55710416 129.80210893\n",
      " 116.64124944 127.74495727 130.69437543 127.77727367 111.32180577\n",
      " 133.43780976 128.77123149 118.43802522 130.09091725 124.21765763\n",
      " 109.63078399 116.8281316  132.2584218  118.05670401 112.43336756\n",
      " 129.43850933 128.09681322 117.97100891 129.60949521 118.30564685\n",
      " 107.70654598 126.20125185 129.12003617  98.17411456 125.35121216\n",
      " 131.76781539 122.74594843 126.86956833 128.93563836 119.65191327\n",
      " 118.74974514 119.46805801 112.51628907 122.28849591 119.25805651\n",
      " 125.85729426 128.07761504 120.57850234 136.50821281 117.47984168\n",
      " 126.83806196 115.90562378 107.13217582 120.65142518 120.69342364\n",
      " 130.25946269 116.57121743 131.21433024 113.32155961 113.13662485\n",
      " 116.77544507 113.59944822 120.09444645 128.6084716  133.93782154\n",
      " 119.81780164 124.02587836 106.26142296 124.59138495 129.17719402\n",
      " 131.2048901  128.33286431 128.68686779 113.73059881 116.34333338\n",
      " 128.96745385 130.24303297 129.11407911 132.43392518 128.8643397\n",
      " 123.51294041 113.00647693 129.70649847 126.82876272 117.11501374\n",
      " 115.40327656 116.63650903 127.61511739 122.9804884  130.38390198\n",
      " 118.54568034 103.30072895 129.52360763 103.52295564 129.63843985\n",
      " 114.13668706 129.53923776 127.97860019 131.232429   116.02830154\n",
      " 121.80539031 118.6499926  118.00612417 112.65407954 119.34800015\n",
      " 126.66279867 130.98462866 126.30299448  83.64700842 115.2993385\n",
      " 127.08515466 109.86294581 113.19122279 118.78190911 110.90184093\n",
      " 129.2279597  116.78460516 117.39790214 130.93313759 127.14187676\n",
      " 129.59067055 118.67445019 129.04579821 118.2757581  111.95132674\n",
      " 129.55097729 129.26795546 118.5572048  117.25823177 114.48077757\n",
      " 126.98229257 119.13814019 113.38212471 114.28942323 132.85282505\n",
      " 115.89936667 127.62208314 115.00439955 115.59619441 119.57926118\n",
      " 129.32625868 116.99410682 131.17442316 113.75765429 127.60648134\n",
      " 119.37312558 112.14277191 126.65263419 129.94261729 113.43223116\n",
      " 118.12996301 127.47069139 111.48878241 117.56453214 129.77177751\n",
      " 129.20951951 112.48605155 118.59575971 119.36047115 109.08309982\n",
      " 112.41929337 110.5817384  127.7265684  126.28541948 118.55401646\n",
      " 130.01377612]\n"
     ]
    }
   ],
   "source": [
    "#LINEAR REGRESSION MODEL\n",
    "model = LinearRegression().fit(X_train, y_train)\n",
    "\n",
    "#evaluation\n",
    "cv = RepeatedKFold(n_splits=10, n_repeats=3, random_state=1)\n",
    "scores = cross_val_score(model, X, y, scoring='neg_mean_absolute_error', cv=cv, n_jobs=-1)\n",
    "scores = np.absolute(scores)\n",
    "print((np.mean(scores), np.std(scores)))\n",
    "\n",
    "#predicted y values\n",
    "y_pred = model.predict(X_test)\n",
    "print(y_pred)"
   ]
  },
  {
   "cell_type": "code",
   "execution_count": 94,
   "metadata": {
    "colab": {
     "background_save": true
    },
    "id": "S5vGooCuIfn5"
   },
   "outputs": [
    {
     "name": "stdout",
     "output_type": "stream",
     "text": [
      "(0.3062391758253947, 0.014967010553487882)\n",
      "[117.6476208  113.73450561 129.20584827 133.44067653 128.30062003\n",
      " 117.77219854 134.98667824 113.05531948 108.05042145 114.37830123\n",
      " 114.52993304 102.39897016 119.48863066 115.63014613 137.5571148\n",
      " 119.4166007  116.03272334 115.58018092 137.25129776 109.89266957\n",
      " 113.71664038 120.36401741  90.20110066 113.61851437 134.49359537\n",
      " 115.39997346 128.62972631 121.075848   114.36107291 120.68948324\n",
      " 116.77964989 101.0991037  132.50728425 110.00543262  98.51231367\n",
      " 135.72335424  94.00356836 130.37887998 118.04434959 119.34091384\n",
      " 127.46182306 129.54635128 114.35058981 114.54183297 105.81873835\n",
      " 102.33321332 113.11541662  89.54356162 108.62632634 130.56619089\n",
      " 130.17687589 131.4778233  130.74468864 122.05697532 119.23244577\n",
      " 115.51457729 125.72796788 129.28442217 111.26596568 123.48765327\n",
      " 127.29286651 105.52047573 130.68318236 122.89028018 134.13583047\n",
      " 114.58369466 124.20681839 115.23718075 126.91197667 116.02698631\n",
      " 109.65116736 113.4190887   96.52206038 123.61924537 112.67618743\n",
      " 112.36058321 107.36814332 119.31024524 123.83502916 142.24464476\n",
      " 131.76912369 112.90271182 129.20038946 102.04956043 134.38148206\n",
      " 106.19160002 129.05988738 112.3099621  130.98160602 122.01435162\n",
      " 121.14600126 118.54969238 114.63178365 112.04165989 138.9878197\n",
      " 109.41821821 115.01111272 115.76518207 116.7621293  137.23502782\n",
      " 118.77465577 129.28975658 108.41268361 134.89643841 136.69134345\n",
      " 114.38920455 113.95558359 102.4197551  114.8013633  128.37634509\n",
      " 124.47282101 106.53224991  98.88363533 120.09964325 104.24826351\n",
      " 105.69286968 124.13481336  96.51421857 127.68098707 120.88880481\n",
      " 142.81207729 102.73900849 111.4843506  102.82434465 117.06210251\n",
      " 116.35902047 115.54963023 102.56323795 134.67990846 128.02760767\n",
      " 129.32856196 111.38059624 118.09445382 111.3120981  118.37056345\n",
      " 136.11207043 133.13267525 145.25630208 120.29450003 133.9724456\n",
      " 135.895521   110.366348   104.61790217 123.47525565 114.51956352\n",
      " 113.02146137 108.11229997  92.14488904 136.32111924 119.07607831\n",
      " 122.35079124 133.53541096 113.22731794 111.4311164  136.10334237\n",
      " 131.98251097 115.10592314 134.83657575 115.97969749 115.54404046\n",
      " 122.79010504 133.23899992 133.60758872 139.04759516 117.41309549\n",
      " 114.75157777 114.35053438 135.86528342 125.8054441  109.34736893\n",
      " 122.81168722 111.56202167 119.4917824  118.19584682 132.30115971\n",
      " 128.12463765 115.45065183 139.07765551 123.09549036 115.43551403\n",
      " 127.01478724 111.29272143 132.00878898 128.98906076 114.84936665\n",
      " 124.15713777 116.71306898 113.57316058 115.91563778 113.66856962\n",
      " 113.01342776 112.26851114 121.06269581  93.10313486 141.62759188\n",
      " 106.42611422 122.55801554 116.46454449 139.31530917 122.73202532\n",
      " 110.51706057 120.71826351 102.51030228 116.19273621 134.91822025\n",
      " 134.16675766 137.44016372 112.30207107 117.79223603 110.16418931\n",
      " 115.42111079 101.54471984 117.38568876 112.49854023 119.27883663\n",
      " 107.0801255  120.67199397 117.02052763 100.60792156 135.31788575\n",
      " 102.92884702 108.68800334 114.55403259 111.39484831 130.33677256\n",
      " 123.76786373 108.23836924 110.07860736 134.06580277 127.3364681\n",
      " 137.22915855 112.10770143 124.58729021 108.16507117 121.70736319\n",
      " 130.99866418 130.03924084 122.82604029 132.75590753 103.02087239\n",
      " 127.53591785 130.73444861 116.76524223 112.19811945 116.03006248\n",
      " 113.74166786 114.90236175 129.44736598 132.69427303 101.34597894\n",
      " 116.87132025 113.88306094  99.14622029 127.81063868 134.10466132\n",
      " 105.51543155 112.14343004 110.84365423 114.43865214 117.57858901\n",
      "  96.77600768 132.75990395 109.20304807 111.40852783 104.86106363\n",
      " 114.77181121 115.86760477 102.07302487 132.38087034 128.80733664\n",
      " 116.21060523 124.35748345 119.85461624 130.08193251 127.56380967\n",
      " 131.16448388 108.3692474  115.95083957 114.98252243 114.53240243\n",
      "  99.84877773 120.81325271 122.88970481 133.50846565 117.96994415\n",
      " 128.16337901 131.21597344 102.15476746 122.16781733 129.32692497\n",
      " 114.98879497 110.32998074 132.68717605 135.04679372 113.96559638\n",
      " 130.88447501 135.03510558 135.18507415 120.8002342  110.34156012\n",
      " 110.72751467 113.98748501 119.25547374 124.31443046 116.2258322\n",
      " 111.42748235 133.61645104 108.78264965 114.50445082 133.63982688\n",
      " 114.02184715 103.77235341 117.67726661 116.6932084   92.77703117\n",
      " 132.24310415 120.5781023  116.721726   110.20877599 128.52455417\n",
      " 110.49613747 124.5049855  124.42504597 116.29321126 135.10914951\n",
      " 104.5003626  132.94232704 118.62492067 110.813446   130.82903626\n",
      " 132.12759079 126.93275647  89.85685573 114.92823254 110.49689271\n",
      " 132.156962   143.53007383 134.74019062 120.05120857 122.98278317\n",
      " 132.41859864 131.25811034 121.20890012 101.67781172 114.07888091\n",
      " 134.61360221 131.34979264 100.18908279 111.84240033 120.56486693\n",
      " 127.12138664 103.27313615 126.22991643 111.96849752 123.18502301\n",
      " 131.18208508 113.72408067 122.62341938 114.50334384 117.25780154\n",
      " 126.59097508 133.00018256 129.42815282 100.73143345 135.65683634\n",
      " 100.59591386 120.46061492 135.41787508 109.53758235 107.03585172\n",
      " 101.61434189  91.29025859 127.36654804 119.80480831 138.14462836\n",
      " 114.38851514 120.70288238 121.64520333 110.86760997 131.6272067\n",
      " 105.04698963 137.80824657 114.42018552 116.01858085 113.71637669\n",
      " 133.95926562 129.90300677 121.90410507 116.08713691 127.19623856\n",
      " 106.94850241 123.88664581 132.25535859 106.2587194  132.43767317\n",
      " 115.64639623  98.27449162  99.75993884 115.7248292  131.58037319\n",
      " 142.80589072 101.46287253 112.13644201 123.39019152 109.36240287\n",
      " 129.92140206 118.76762178 117.91259669 117.70217115  95.94825725\n",
      " 114.97740365 122.28930718 111.18994746 114.39908094 139.03464988\n",
      " 118.96520584 114.60614383 119.90775045 137.4233227   97.97577377\n",
      " 130.60302179 118.32537081 117.10955792 119.50776448 124.97214089\n",
      " 122.41727667 140.84483753  99.62301028 135.56540653 118.41140958\n",
      " 143.01482055 112.11579096 120.65401904 140.39084525 115.7026056\n",
      " 122.07699081 125.11809192 120.7280108  120.35885709 111.98885895\n",
      " 115.481769    92.97566043 120.03294827 113.94356525 123.07122697\n",
      " 133.54190487 108.20520515 136.34108618 146.5803994  126.66619544\n",
      " 128.33511454 120.39869669 121.86950259 118.28115136 111.78475597\n",
      " 118.70654346 116.35125843 110.3588573  108.8987496  111.08909301\n",
      " 114.2762965  117.77806397 121.82720889 115.04375597 117.80408806\n",
      " 144.1695585  141.60768941 130.69414715 131.8976766  135.84550335\n",
      " 125.40609568 134.33198723 119.14601985 101.93665572 119.34149851\n",
      " 127.53218663 117.21885474 113.340898   135.09795975 140.65308234\n",
      " 132.49097869 110.57972363 131.03414972 123.16664438 112.22009766\n",
      " 110.86456954 119.20313403 113.83052955 129.42116516  94.32039389\n",
      "  99.48286595 114.85782071 102.98757144 118.79618689 135.58335204\n",
      " 134.28621975 125.33064807  97.90055636 116.35224263 109.94182046\n",
      " 115.25876554 134.42077695 115.24307776 116.33946843 120.69451505\n",
      " 106.74397214 117.17753317 127.11861432 125.80558509 124.84199817\n",
      "  99.27494167 120.90136041 132.78622563 124.78156269 110.75619956\n",
      " 117.63847091 127.94175853 133.92823341 117.75003317 116.13699179\n",
      " 111.79205042 114.33216698  94.75791378 120.73160845 119.54194968\n",
      " 118.37059039 104.59922819 144.89195928 105.13133616 125.5608825\n",
      " 121.23534396 135.20704598 117.51158845 129.11237492 120.64373315\n",
      " 111.86176242 101.6781171  116.39133631 127.46849516 103.36586791\n",
      " 135.6088619  129.36628272 112.41904416 120.31880255 119.90270194\n",
      " 116.68685583 117.13474086 134.45372288 111.16726104 133.57678362\n",
      " 137.63483955 123.49113732 125.62626285 133.91278073 124.82444707\n",
      " 133.90334571  91.38578526 130.93553678 118.94720981 134.7846195\n",
      "  98.70092767 116.07758379  99.33500015 118.65240345 130.45538221\n",
      " 134.30132429 145.99905438 118.0606095  128.53281571 114.29290508\n",
      " 110.70194798 119.65704053 124.61514807 124.94227607 135.78156734\n",
      " 124.16266757 112.59543764 123.81371128 115.72145417 114.59143518\n",
      " 120.7559152  138.45622633 136.06595991 138.38049282 131.80888978\n",
      " 123.18567979 111.3856672  110.9522249  137.61767775 126.64300849\n",
      " 121.46195379 124.43310833 128.77043124 111.64127829 116.67214318\n",
      " 134.10955779 113.62434624 119.58185063 121.42359458 112.7711081\n",
      " 122.15922849 132.53634007 129.9215422  116.96431285 113.42803583\n",
      " 121.47048844 113.91983948 119.54507666 130.54570316 135.36919358\n",
      " 113.43409129 124.37756106 133.30844785 102.58494455 129.80406031\n",
      " 131.4902738  100.94599852 113.93842096 135.29916899 117.01451694\n",
      " 115.66813753 100.5978599  116.055915   101.26577358 114.31155601\n",
      " 137.01402163 112.16381311 124.62547387 121.23075528 126.98689025\n",
      " 136.56297447 119.03731673 109.978676   101.69570174 109.73891749\n",
      " 114.79061034 116.80418254 139.11997933 122.08625067 122.19720499\n",
      " 126.29980717 113.31280429 121.42451909 128.10670514 132.49004017\n",
      " 100.43257176 112.27528817 107.6424737  118.48154514 122.23715094\n",
      " 138.68442725 129.5002227  138.202934   120.88985947 117.28022103\n",
      " 134.10805873 127.37023532 127.52069488 131.42411306 146.42714762\n",
      " 115.39129685 113.26174802 122.65054337 128.58306303 121.41479454\n",
      " 117.33660498 121.13472295 135.70846408 125.97664277 129.9851646\n",
      " 115.88193144  96.66060484 132.11115082 108.00903167 130.03507728\n",
      "  97.22926904 136.3000489  130.89565432 134.40918585 114.60468584\n",
      " 127.78969638 126.51101299 135.58496331 105.08674631 114.98683613\n",
      " 112.65449598 129.10385026 124.01509706  92.01115484 121.23208418\n",
      " 112.85687164  99.61141436 114.53003764 119.899623    99.03917232\n",
      " 115.21982137 116.25619029 125.90366803 140.47267574 131.80707138\n",
      " 144.74540868 116.84147664 135.53082495 113.68723585 114.09113386\n",
      " 129.89956877 135.25140939 115.97875125 116.06502801 114.32749477\n",
      " 128.62421362 101.65871823 112.60547297 116.48580939 119.74087974\n",
      " 123.33240861 122.52275922 121.7114374  116.58076992 119.17049731\n",
      " 134.70840008 111.46744982 134.12992224 114.63853546 132.18197108\n",
      " 117.70544947 108.95021918 131.37688705 115.04086692 116.87811405\n",
      " 119.86665163 121.58940216 110.78697585 116.01792417 132.33169299\n",
      " 114.97471426 111.86971499 118.47248937 120.25227723 108.40892831\n",
      " 112.73669059 126.23440365 121.96212032 127.18478426 120.50850179\n",
      " 137.14056547]\n"
     ]
    },
    {
     "name": "stderr",
     "output_type": "stream",
     "text": [
      "/opt/anaconda3/lib/python3.8/site-packages/sklearn/linear_model/_ridge.py:147: LinAlgWarning: Ill-conditioned matrix (rcond=6.17401e-37): result may not be accurate.\n",
      "  return linalg.solve(A, Xy, sym_pos=True,\n"
     ]
    }
   ],
   "source": [
    "#RIDGE REGRESSION\n",
    "#can also test around with the alpha value, currently set to the default 1\n",
    "ridgemodel = Ridge(alpha=1.0)\n",
    "\n",
    "#k=5 or 10 is very common that generally result in a model skill estimate with low bias a modest variance\n",
    "#can change this later\n",
    "#repeat this process 3 times to get an average \n",
    "#evaluate the model\n",
    "cv = RepeatedKFold(n_splits=10, n_repeats=3, random_state=1)\n",
    "scores = cross_val_score(ridgemodel, X, y, scoring='neg_mean_absolute_error', cv=cv, n_jobs=-1)\n",
    "scores = np.absolute(scores)\n",
    "print((np.mean(scores), np.std(scores)))\n",
    "\n",
    "#making predictions on test data\n",
    "#first fit the data\n",
    "ridgemodel.fit(X_train,y_train)\n",
    "y_pred2 = ridgemodel.predict(X_test)\n",
    "print(y_pred2)"
   ]
  },
  {
   "cell_type": "code",
   "execution_count": 95,
   "metadata": {
    "colab": {
     "background_save": true
    },
    "id": "cs_J8l4yGGLX"
   },
   "outputs": [
    {
     "name": "stdout",
     "output_type": "stream",
     "text": [
      "0.41223478920921164\n"
     ]
    }
   ],
   "source": [
    "rmse_ridge = np.sqrt(mean_squared_error(y_test,y_pred2))\n",
    "print(rmse_ridge)"
   ]
  },
  {
   "cell_type": "code",
   "execution_count": 96,
   "metadata": {
    "colab": {
     "background_save": true
    },
    "id": "1vDjYRGDIwde"
   },
   "outputs": [
    {
     "name": "stdout",
     "output_type": "stream",
     "text": [
      "(0.44897213255576623, 0.026307284179480955)\n",
      "[117.7385551  114.51748742 129.50817932 133.47270058 127.94924371\n",
      " 117.647467   134.9500158  113.26122447 107.81825859 114.40170439\n",
      " 114.0320967  102.7809978  119.33673446 116.20410733 137.77760976\n",
      " 119.28776761 115.81360053 115.45620779 137.34933753 110.58887305\n",
      " 113.83029803 120.23217305  90.21273413 113.84176614 134.29531853\n",
      " 115.36867593 129.05947787 121.15403894 114.17156442 120.94594142\n",
      " 116.29886115 101.42689232 132.62962778 110.07966128  99.05464482\n",
      " 136.0525724   94.39436651 129.75650229 118.32755196 119.43141426\n",
      " 127.489438   129.67055398 114.55603488 114.74807896 105.41880422\n",
      " 100.75134474 113.19942922  89.6012088  108.82412589 130.7752611\n",
      " 129.90595568 131.17344457 130.96280602 122.81016822 119.13657818\n",
      " 115.46986792 125.03154845 129.32010965 111.45723916 123.71073641\n",
      " 127.61534846 106.20768667 131.00216433 123.2123995  133.44887984\n",
      " 114.68808832 124.34844472 114.98220781 127.00103802 115.90778182\n",
      " 110.00344695 112.89420984  96.57478998 123.44511912 114.1581792\n",
      " 112.12622647 108.24644823 118.98202318 123.96935509 142.21504397\n",
      " 131.25305808 112.85152242 128.93186043 102.54529738 134.27095124\n",
      " 106.0307876  129.09125913 111.97490808 130.51571322 122.36619236\n",
      " 120.97900944 118.52286802 114.65888385 112.44782582 138.67258904\n",
      " 109.99241677 115.181839   115.90329593 116.58356657 136.79895064\n",
      " 119.34454417 129.06386085 107.21825925 134.63782873 136.71766973\n",
      " 114.19127657 114.06938873 102.2364518  114.68514167 128.44102773\n",
      " 123.22053326 106.36682851  97.75083924 120.0688371  104.69754261\n",
      " 105.45319424 124.19906635  97.41341452 127.90381731 120.56234243\n",
      " 142.75467352 103.2149613  111.59326648 103.30937425 117.18680263\n",
      " 116.0106222  115.54146943 102.75515168 134.2586217  127.68711024\n",
      " 129.37250891 110.58170408 118.08895976 110.98745836 117.62778766\n",
      " 135.52404555 133.109377   145.11622555 120.6586657  134.14035772\n",
      " 136.12455704 110.08264023 104.28164359 123.88930739 114.56482266\n",
      " 112.66600793 107.15268053  90.69106426 135.75259816 119.11396304\n",
      " 122.43320413 133.00436389 113.30697093 110.49728987 135.97905416\n",
      " 131.92770988 115.40820093 134.5530622  115.97204801 115.58946303\n",
      " 123.55059388 132.89401205 133.11565576 139.31922366 117.11368904\n",
      " 114.48220941 112.31263214 136.18584471 126.17835804 109.19630263\n",
      " 121.93496366 111.11581679 119.42080224 118.21992998 132.55764363\n",
      " 128.20303242 115.26730451 138.72765709 123.29537406 115.51877253\n",
      " 126.9163399  110.72489245 131.98240912 129.30020271 115.10215659\n",
      " 124.13496619 116.74674464 114.13642459 115.88546104 113.49000261\n",
      " 113.16891739 112.2299462  120.70705843  93.82551502 141.51355202\n",
      " 106.91275962 122.39379345 116.47580499 139.16087515 123.15309549\n",
      " 110.60517469 120.76089464 103.07833754 116.50151386 133.23795424\n",
      " 133.65145429 136.95278588 111.97124339 117.78849755 110.22625333\n",
      " 115.34820329 101.9674939  117.22012491 112.90197915 120.27629775\n",
      " 107.96664902 120.40709448 115.32988976 101.20070705 134.62858633\n",
      " 103.49015274 107.86408173 114.90574104 110.33188921 130.23392604\n",
      " 123.28702483 107.62400252 110.42347089 133.95951469 127.5754205\n",
      " 136.81364119 112.02054834 124.47426469 108.92006852 121.85832195\n",
      " 131.49749483 129.96636538 123.16294725 132.30960783 102.78829064\n",
      " 127.10759018 130.58761509 116.62953542 112.05744882 116.41004283\n",
      " 114.68430353 115.61328546 129.80819605 132.50390033 101.88773798\n",
      " 116.19226112 113.75872946  99.26549722 127.83679933 133.26717397\n",
      " 106.0838683  112.03566891 111.37082432 114.60774958 117.59887344\n",
      "  97.10031872 132.7437341  110.0204738  111.74247253 105.06925054\n",
      " 115.23926672 115.95985739 102.74842138 132.40702361 128.71457989\n",
      " 116.26297799 124.50301307 119.97051582 129.61273947 127.63711083\n",
      " 131.02926424 108.68001315 115.78876187 115.19740893 114.39104568\n",
      "  99.96757545 120.78406827 122.95890028 133.30958161 118.1719246\n",
      " 127.60819791 131.72322981 102.25499011 122.59988064 129.49048881\n",
      " 115.13853038 110.61561993 132.74768962 134.73984915 114.19182718\n",
      " 130.71180299 135.15422216 135.13008968 120.70141914 110.40960883\n",
      " 110.63228145 114.24224186 118.71022483 123.70569499 116.27908406\n",
      " 111.15514635 133.53939039 108.86838951 114.48334849 133.54420743\n",
      " 114.39254374 104.37962851 117.75655027 117.11655897  92.93951941\n",
      " 132.54911606 120.5153992  116.62245141 110.61060294 128.23476143\n",
      " 111.36594104 124.2895232  124.28881615 116.34979991 134.31953918\n",
      " 104.71445255 133.36087966 119.04959546 111.30289433 130.93702747\n",
      " 132.31872239 126.94529311  88.45686391 115.05841391 110.74208162\n",
      " 132.19304147 143.27200859 134.62909092 119.55236695 123.0352413\n",
      " 132.22239674 131.32542463 120.97470219 104.10397974 114.2087445\n",
      " 134.05186244 130.89748042 100.40637903 112.00591398 120.57742134\n",
      " 126.99185776 103.37537405 126.40608767 112.15561945 123.81358201\n",
      " 131.19111111 112.98976985 122.94227008 114.55307333 117.69262325\n",
      " 126.76575353 132.39338476 129.35851378 100.57529803 135.78205855\n",
      " 101.22340808 120.47418387 135.16759037 109.53656554 107.6212849\n",
      " 102.07922411  91.52639211 127.35870718 119.89373202 137.59527215\n",
      " 114.30324392 120.45302397 122.01181703 110.82757012 130.99709263\n",
      " 105.4367983  138.5638819  114.50773653 116.19712122 113.62021157\n",
      " 133.9777118  129.43102698 121.30772011 116.20985577 127.00621517\n",
      " 106.72814157 123.91147698 132.36493487 106.67817077 132.44311717\n",
      " 115.31826203  98.88598748 100.45109008 115.66038242 131.79254585\n",
      " 142.57040093 101.50436817 112.28979588 123.70811855 109.4546932\n",
      " 130.45282989 118.7713703  118.12361708 117.91763327  96.8019166\n",
      " 115.54347483 122.31320674 111.09327122 114.35912699 138.6343556\n",
      " 119.49515737 114.64729777 119.94200502 137.58820023  98.86649422\n",
      " 130.55472783 118.23262345 116.9951227  119.55854071 124.54955517\n",
      " 122.7878037  140.98334961 100.44421685 135.57686993 118.45081156\n",
      " 142.74238496 111.95853012 120.54665108 139.32635969 115.96919818\n",
      " 122.30626666 125.55673682 120.94034806 120.68470332 112.05624856\n",
      " 115.77023344  92.93989186 119.92032291 113.87292829 123.33544084\n",
      " 133.50229389 108.15079142 135.84824159 146.22485466 126.39508687\n",
      " 128.51619299 120.18814928 121.18438933 118.77508857 112.19639868\n",
      " 117.95762626 116.57762169 110.63324215 109.12789307 110.90425855\n",
      " 113.37436397 118.07745852 121.51148066 115.34452239 117.9365984\n",
      " 143.94711709 141.56564924 130.58650874 131.37734063 135.74764073\n",
      " 125.23562499 133.27853698 119.47711175 102.27273238 119.34982117\n",
      " 127.42270063 116.95352301 114.00817884 135.91527725 140.76029509\n",
      " 132.41388155 110.93308293 130.60812279 123.51400803 112.48550613\n",
      " 110.7669979  119.62895    113.61700265 129.34442986  94.26485983\n",
      "  99.18972381 115.04968587 102.69664745 118.90348668 135.20442885\n",
      " 134.25199289 125.30712776  98.06031781 116.55780391 110.20665986\n",
      " 115.36785609 132.44244414 114.97021187 116.486587   120.12400856\n",
      " 107.25356243 116.960537   127.05819738 126.06579121 124.51836461\n",
      "  99.40589549 121.17189088 132.41321287 124.81351723 110.8189998\n",
      " 117.69914914 127.92745762 133.65441478 117.90092855 116.71910438\n",
      " 112.10225756 114.99568212  94.83698327 121.00939675 119.52249896\n",
      " 118.44352258 104.08359893 144.47104542 106.49133462 125.51272325\n",
      " 120.69461094 134.94413145 118.29017141 129.30164567 120.67124839\n",
      " 112.00890534 101.5713758  115.74352727 127.19559678 104.18695361\n",
      " 135.44297688 129.88139181 112.84886532 120.40753928 119.52056911\n",
      " 116.63732732 117.26308375 134.49687426 111.18396405 133.47110952\n",
      " 137.51938482 123.56240965 125.77158571 133.79347504 124.36863495\n",
      " 133.66851069  90.88777966 130.59191301 118.51033952 135.01024989\n",
      "  97.38343008 117.1772541   99.99263185 118.6641337  130.46596748\n",
      " 134.37182635 145.6833908  117.56834296 128.74639285 114.50415777\n",
      " 111.37938931 119.35829549 124.87071702 125.2527434  135.67572904\n",
      " 124.3877485  112.79442042 123.69293898 115.61963007 114.81246324\n",
      " 120.54824368 137.93815998 136.11007346 137.87587683 131.74287949\n",
      " 122.56700829 112.04069463 111.33929607 137.64322312 126.93618103\n",
      " 121.70564509 123.76657851 128.76770415 111.83404974 116.43025803\n",
      " 133.71266962 113.95177086 119.73769774 121.36175276 112.86890078\n",
      " 121.77524413 132.29433863 130.21350674 117.09070055 113.32033209\n",
      " 121.86249821 114.14145057 118.8612627  130.45981137 135.55360687\n",
      " 113.29641096 124.02452698 133.53441001 103.39415332 129.23545754\n",
      " 131.50599097 101.4492107  114.38337462 135.09923452 117.13267819\n",
      " 115.81629751 101.36739741 116.08214147 101.7256747  114.55663402\n",
      " 136.46199399 111.87384921 124.55635881 120.88579523 126.42376538\n",
      " 136.65351675 118.12162673 110.91301594 101.95829818 110.16576087\n",
      " 115.01807261 116.87347    138.66945889 122.05463465 120.96294709\n",
      " 126.07220465 113.74097419 121.30205315 127.79875845 132.58857115\n",
      " 100.7776048  112.58775769 107.3191774  118.43754524 121.95511816\n",
      " 138.55595414 130.06280262 137.95421    121.12309352 117.55886944\n",
      " 133.9417136  127.71580147 127.09731396 131.38668547 145.53332348\n",
      " 116.01646926 113.74623581 122.52310771 128.44953777 121.3361224\n",
      " 117.31100196 121.02212917 135.38537675 125.24116882 129.81271987\n",
      " 116.17818668  96.40137743 131.99977621 108.2170509  129.87253591\n",
      "  97.6645887  136.29995878 130.8922062  134.31346201 115.03122397\n",
      " 127.64684031 126.29486543 135.13348851 105.72356518 114.8786835\n",
      " 113.29916377 129.13428309 123.80710585  90.3359484  121.63984381\n",
      " 112.58503161  99.81488912 114.37545992 119.7931458   98.64693116\n",
      " 115.22869288 116.17398919 126.4403747  140.73611951 131.93973088\n",
      " 143.96567714 116.67981799 134.78205068 113.75819793 114.27062086\n",
      " 130.00487232 135.29615903 115.78935967 115.88499513 113.74678562\n",
      " 128.52011298 101.92464313 112.38408483 116.50580121 119.77086333\n",
      " 123.45389064 122.56619276 121.57475759 116.39904166 119.56464207\n",
      " 134.34248172 111.77194775 134.27306721 114.6317426  131.75737322\n",
      " 117.60121271 109.27552585 130.87551883 115.07399663 116.63660197\n",
      " 120.07817695 121.75633275 111.01182277 116.27142577 132.32682871\n",
      " 114.80765116 112.27553101 118.53225683 120.30176195 108.06872725\n",
      " 112.73205207 125.75218454 121.53452517 127.04077634 120.30450277\n",
      " 137.45121773]\n"
     ]
    },
    {
     "name": "stderr",
     "output_type": "stream",
     "text": [
      "/opt/anaconda3/lib/python3.8/site-packages/sklearn/linear_model/_coordinate_descent.py:530: ConvergenceWarning: Objective did not converge. You might want to increase the number of iterations. Duality gap: 2046.4430244271946, tolerance: 23.086443122193337\n",
      "  model = cd_fast.enet_coordinate_descent(\n"
     ]
    }
   ],
   "source": [
    "#LASSO REGRESSION\n",
    "#can also test around with the alpha value, currently set to the default 1\n",
    "lassomodel = Lasso(alpha=1.0)\n",
    "\n",
    "#evaluation\n",
    "cv = RepeatedKFold(n_splits=10, n_repeats=3, random_state=1)\n",
    "scores = cross_val_score(lassomodel, X, y, scoring='neg_mean_absolute_error', cv=cv, n_jobs=-1)\n",
    "scores = np.absolute(scores)\n",
    "print((np.mean(scores), np.std(scores)))\n",
    "\n",
    "#making predictions on test data\n",
    "#first fit the data\n",
    "lassomodel.fit(X_train,y_train)\n",
    "y_pred3 = lassomodel.predict(X_test)\n",
    "print(y_pred3)"
   ]
  },
  {
   "cell_type": "code",
   "execution_count": 97,
   "metadata": {
    "colab": {
     "background_save": true
    },
    "id": "p0jn2hLmYhXz"
   },
   "outputs": [
    {
     "name": "stdout",
     "output_type": "stream",
     "text": [
      "(0.4499573318722931, 0.02750736480563635)\n",
      "[117.70324873 114.61428402 129.51642903 133.49023321 127.95832814\n",
      " 117.64458128 135.05327068 113.25679562 107.79502219 114.41598267\n",
      " 114.06677056 102.73742981 119.36081834 116.20752645 137.82489573\n",
      " 119.34762734 115.85698344 115.46852082 137.40218142 110.54477708\n",
      " 113.82815449 120.27483364  90.06657143 113.7920145  134.31814183\n",
      " 115.37974338 129.06993319 121.16804825 114.13686526 120.98479188\n",
      " 116.27302126 101.35897302 132.67545884 110.07867548  99.01604794\n",
      " 136.06099772  94.36988748 129.7310846  118.33486083 119.47069574\n",
      " 127.49774746 129.68138968 114.56327472 114.7816632  105.39252267\n",
      " 100.64830447 113.18959272  89.50724306 108.79994028 130.80662664\n",
      " 129.90489227 131.15217085 130.99236314 122.80340633 119.13516298\n",
      " 115.45202428 124.96070313 129.30960846 111.47604828 123.76093396\n",
      " 127.62379526 106.19891793 130.98891378 123.20029626 133.44366447\n",
      " 114.67962484 124.34584275 114.98270472 126.97966899 115.90646753\n",
      " 109.98245622 112.93333125  96.54293405 123.51200134 114.11745086\n",
      " 112.12974024 108.1367081  119.00487983 123.95731706 142.29057662\n",
      " 131.27582816 112.8240781  128.94749009 102.54484166 134.35515748\n",
      " 105.97786564 129.08748361 111.96999308 130.50784447 122.37737317\n",
      " 121.00688074 118.5026254  114.64222413 112.44824025 138.75757194\n",
      " 110.04086182 115.13909024 115.90356269 116.59642485 136.80600468\n",
      " 119.32469292 129.09401815 107.28745767 134.62354829 136.76963809\n",
      " 114.13122216 114.04343897 102.22475746 114.70368448 128.45023389\n",
      " 123.31531929 106.3620328   97.71378739 120.07953021 104.64051058\n",
      " 105.38130691 124.2595709   97.36349174 127.88100801 120.63165585\n",
      " 142.81877135 103.29322608 111.57006135 103.32080454 117.18502641\n",
      " 115.97219305 115.4984231  102.80195689 134.28490694 127.7334481\n",
      " 129.43987783 110.47110006 118.10713843 110.93914038 117.55563579\n",
      " 135.51533469 133.13198611 145.167204   120.61688114 134.17544019\n",
      " 136.20270939 109.98517063 104.16220975 123.87416351 114.52317296\n",
      " 112.68062013 107.21589162  90.61626825 135.75306217 119.15947657\n",
      " 122.38057844 133.01442452 113.28449717 110.49261885 136.08054746\n",
      " 131.95734766 115.39432025 134.56242208 115.98896894 115.54901266\n",
      " 123.56375255 132.9041513  133.18791434 139.35376942 117.13972464\n",
      " 114.5036428  112.35962697 136.2270727  126.20068033 109.16379015\n",
      " 121.87186779 111.12252513 119.42577167 118.23788162 132.62073427\n",
      " 128.20312209 115.26861375 138.78372113 123.31983978 115.48008041\n",
      " 126.99956684 110.61106094 132.05940721 129.31211139 115.08935155\n",
      " 124.16759553 116.77767776 114.12953372 115.91150911 113.50561256\n",
      " 113.13748894 112.23481121 120.74115053  93.80680774 141.55248012\n",
      " 106.89287318 122.41883814 116.45045398 139.2967893  123.16709036\n",
      " 110.62270465 120.80181872 103.02301893 116.48871131 133.25152642\n",
      " 133.70189397 136.97176269 111.95952094 117.79001446 110.24712352\n",
      " 115.35998629 101.95865779 117.21354429 112.87819616 120.18957508\n",
      " 108.00470923 120.40507395 115.41900824 101.13932607 134.66059439\n",
      " 103.44011362 107.89538194 114.88984964 110.38245652 130.31565646\n",
      " 123.25281816 107.50911627 110.43073265 133.99945253 127.55876454\n",
      " 136.80462994 112.00172085 124.46684335 108.8396514  121.83533892\n",
      " 131.50889074 129.96594554 123.15928815 132.27268123 102.65264921\n",
      " 127.00778923 130.59067481 116.66100296 112.09958758 116.42124203\n",
      " 114.63372426 115.53233667 129.81290295 132.49437794 101.83162333\n",
      " 116.10012294 113.76837288  99.27743222 127.84005761 133.24727914\n",
      " 106.03060638 112.01398939 111.34442731 114.60165785 117.60246072\n",
      "  97.03792077 132.77541864 110.00871965 111.8637601  105.0399456\n",
      " 115.16322659 115.98324436 102.6873466  132.44074018 128.69859537\n",
      " 116.25070794 124.46009935 120.02813347 129.66748033 127.65643162\n",
      " 131.03330507 108.63491145 115.80346199 115.18111824 114.38661947\n",
      "  99.95681631 120.7985334  123.01646021 133.34630708 118.17605549\n",
      " 127.61280943 131.77279383 102.18155561 122.64056021 129.4888064\n",
      " 115.13442982 110.59331333 132.76925771 134.76642199 114.16691794\n",
      " 130.74836691 135.26046485 135.17447591 120.66897906 110.33179023\n",
      " 110.66171011 114.23526452 118.71840213 123.72905162 116.32442459\n",
      " 111.26764946 133.57790855 108.90648688 114.50983968 133.59196763\n",
      " 114.37890063 104.32368854 117.79749698 117.10867192  92.85310101\n",
      " 132.56952742 120.51829086 116.64715493 110.60886484 128.25522373\n",
      " 111.35431241 124.33949712 124.2661283  116.35566969 134.2280378\n",
      " 104.68166497 133.34099236 118.96221327 111.28108399 130.93561791\n",
      " 132.31948759 126.98083811  88.29078351 115.0599399  110.70851797\n",
      " 132.21097209 143.26254255 134.63951005 119.55246652 123.08371903\n",
      " 132.20580482 131.36845322 120.99063893 104.05876319 114.22528682\n",
      " 134.01567896 130.87738164 100.30470086 112.0091785  120.60172508\n",
      " 126.98027444 103.35861943 126.4169436  112.10009099 123.80745596\n",
      " 131.22655229 112.92586379 122.92944933 114.56462695 117.69062397\n",
      " 126.82406689 132.44942219 129.35996615 100.56723697 135.7963718\n",
      " 101.16126134 120.45816217 135.14212984 109.48923019 107.56606901\n",
      " 102.00262301  91.44266881 127.32554029 119.8942107  137.67564107\n",
      " 114.27921352 120.42606994 122.04457928 110.88928536 130.99046538\n",
      " 105.41487544 138.5624092  114.54799934 116.22001179 113.597277\n",
      " 134.0060159  129.39428724 121.05872368 116.12912125 127.04612142\n",
      " 106.78957282 123.90838857 132.38761817 106.61933362 132.44263366\n",
      " 115.32375807  98.84821414 100.38257579 115.64158385 131.85196075\n",
      " 142.66873734 101.45919008 112.28505856 123.68072357 109.42297158\n",
      " 130.47104838 118.79092149 118.12974807 117.95059932  96.73508007\n",
      " 115.51182451 122.27685424 111.04530714 114.38772193 138.72616926\n",
      " 119.45573485 114.65464293 119.97352848 137.62821473  98.78215485\n",
      " 130.56092317 118.21733684 117.01510496 119.58250877 124.54744391\n",
      " 122.78853275 141.01640611 100.37806374 135.56686783 118.46531885\n",
      " 142.8325691  111.93828379 120.56376099 139.29286646 115.94437629\n",
      " 122.28436518 125.5457185  120.97683542 120.65376543 112.06516641\n",
      " 115.79165647  92.81872058 119.88003802 113.88410892 123.3620882\n",
      " 133.51950141 108.12807676 135.88417429 146.31603317 126.4089606\n",
      " 128.5237049  120.24100523 121.2324649  118.78045035 112.14334708\n",
      " 117.94943129 116.54253378 110.61427022 109.08406154 110.96210806\n",
      " 113.23106071 118.04819433 121.55516999 115.43646031 117.96384441\n",
      " 144.05353158 141.62355089 130.5824158  131.43820435 135.7264668\n",
      " 125.27364652 133.14775032 119.46998274 102.20756315 119.31359178\n",
      " 127.42823557 116.97037575 114.06072603 135.90851898 140.77696442\n",
      " 132.43352655 110.87934082 130.62789725 123.56295868 112.38864874\n",
      " 110.84642271 119.63558657 113.58784307 129.36793287  94.12200007\n",
      "  99.13335201 114.97990693 102.61939825 118.92595645 135.21111636\n",
      " 134.30348542 125.28238437  97.96811535 116.59132554 110.18599584\n",
      " 115.4352206  132.26901206 115.01992148 116.50421293 120.07739144\n",
      " 107.28628377 116.98405754 127.09745906 126.06186195 124.46793834\n",
      "  99.36796725 121.15104627 132.42025377 124.82187859 110.69337636\n",
      " 117.71732748 127.97248101 133.65118404 117.91831684 116.72102429\n",
      " 112.22037084 114.92959507  94.81557504 121.02045289 119.5013415\n",
      " 118.45607967 104.12595698 144.56212443 106.41952445 125.50415768\n",
      " 120.60590722 134.91859346 118.31784227 129.3265142  120.69391589\n",
      " 111.97453648 101.51128719 115.60458732 127.08285421 104.16891591\n",
      " 135.46481178 129.87919601 112.83072435 120.42463797 119.51804619\n",
      " 116.52644239 117.27492811 134.52641091 111.15697533 133.5113361\n",
      " 137.56072866 123.56552973 125.82809932 133.86109927 124.29827215\n",
      " 133.74168571  90.79284672 130.62187975 118.49597592 135.05912419\n",
      "  97.29628367 117.14520703  99.9429781  118.69396731 130.49186985\n",
      " 134.4713063  145.79389267 117.55113825 128.73920064 114.46222983\n",
      " 111.3774356  119.31113672 124.85041539 125.23590529 135.64926827\n",
      " 124.38518219 112.80331222 123.71712988 115.65542691 114.82058824\n",
      " 120.57673727 138.02126106 136.12600636 137.93989644 131.6775753\n",
      " 122.70776515 111.98401117 111.28552314 137.74608585 126.94490782\n",
      " 121.75466164 123.64689849 128.75345749 111.75926087 116.50908388\n",
      " 133.71302936 113.90991501 119.71887751 121.29440897 112.82272726\n",
      " 121.88853772 132.37612227 130.19550018 117.13946093 113.2735145\n",
      " 121.82425227 114.06654802 118.84813354 130.51042523 135.62617021\n",
      " 113.27625697 123.98673471 133.57881505 103.38566329 129.25022712\n",
      " 131.55200368 101.34158427 114.3570573  135.07281511 117.12577783\n",
      " 115.80782366 101.30798489 116.10657008 101.64276299 114.56872138\n",
      " 136.47607672 111.77891398 124.58150567 120.77556899 126.44287111\n",
      " 136.72069283 118.19626137 110.95376049 101.88130155 110.13028555\n",
      " 114.97772319 116.86967038 138.72576549 122.10687155 120.8430647\n",
      " 126.13176289 113.75390321 121.2956793  127.80412996 132.59852378\n",
      " 100.70520231 112.57576039 107.35807215 118.4051294  121.91460859\n",
      " 138.57486011 130.06744781 138.002338   121.17091797 117.53714961\n",
      " 133.98392586 127.73680823 127.03070901 131.37498367 145.53464667\n",
      " 115.97852875 113.77693578 122.51393122 128.46274193 121.35745478\n",
      " 117.30134356 121.06561238 135.42660689 125.26806407 129.80215784\n",
      " 116.1710641   96.39302296 131.9995534  108.23001464 129.87116248\n",
      "  97.59316053 136.35462924 130.92305581 134.3219854  115.02912394\n",
      " 127.7048091  126.33685239 135.20371773 105.67457161 114.83964744\n",
      " 113.24260594 129.17445329 123.78281362  90.24070036 121.71307963\n",
      " 112.51503329  99.79154401 114.38310897 119.8133172   98.60034243\n",
      " 115.13870981 116.21107093 126.48452517 140.79785837 131.94014388\n",
      " 143.946855   116.69006686 134.79917907 113.75114531 114.30609996\n",
      " 129.92086906 135.30813217 115.78095054 115.90321072 113.78012325\n",
      " 128.46787922 101.90584696 112.41091462 116.50124662 119.76559436\n",
      " 123.51640771 122.60027167 121.60923117 116.4306134  119.55729804\n",
      " 134.29807221 111.80214378 134.29892089 114.63448443 131.80602618\n",
      " 117.60734297 109.33569565 130.89268782 115.04134173 116.61757598\n",
      " 120.13343567 121.76307949 111.05441746 116.25494647 132.39556\n",
      " 114.73582209 112.23759679 118.56607223 120.31195732 107.99956146\n",
      " 112.70833826 125.60324747 121.37465135 127.02658398 120.34036641\n",
      " 137.48075687]\n"
     ]
    },
    {
     "name": "stderr",
     "output_type": "stream",
     "text": [
      "/opt/anaconda3/lib/python3.8/site-packages/sklearn/linear_model/_coordinate_descent.py:530: ConvergenceWarning: Objective did not converge. You might want to increase the number of iterations. Duality gap: 1383.54700652861, tolerance: 23.086443122193337\n",
      "  model = cd_fast.enet_coordinate_descent(\n"
     ]
    }
   ],
   "source": [
    "#ELASTIC NET REGRESSION\n",
    "elasticmodel = ElasticNet(alpha=1.0, l1_ratio=0.5)\n",
    "\n",
    "#evaluation\n",
    "cv = RepeatedKFold(n_splits=10, n_repeats=3, random_state=1)\n",
    "scores = cross_val_score(elasticmodel, X, y, scoring='neg_mean_absolute_error', cv=cv, n_jobs=-1)\n",
    "scores = np.absolute(scores)\n",
    "print((np.mean(scores), np.std(scores)))\n",
    "\n",
    "#making predictions on test data\n",
    "#first fit the data\n",
    "elasticmodel.fit(X_train,y_train)\n",
    "y_pred4 = elasticmodel.predict(X_test)\n",
    "print(y_pred4)"
   ]
  },
  {
   "cell_type": "code",
   "execution_count": 98,
   "metadata": {
    "colab": {
     "background_save": true
    },
    "id": "DyMf_wcYSX7N"
   },
   "outputs": [
    {
     "name": "stderr",
     "output_type": "stream",
     "text": [
      "/Users/seangao/.local/lib/python3.8/site-packages/pandas/core/indexing.py:1817: SettingWithCopyWarning: \n",
      "A value is trying to be set on a copy of a slice from a DataFrame.\n",
      "Try using .loc[row_indexer,col_indexer] = value instead\n",
      "\n",
      "See the caveats in the documentation: https://pandas.pydata.org/pandas-docs/stable/user_guide/indexing.html#returning-a-view-versus-a-copy\n",
      "  self._setitem_single_column(loc, value, pi)\n",
      "/Users/seangao/.local/lib/python3.8/site-packages/pandas/core/generic.py:5516: SettingWithCopyWarning: \n",
      "A value is trying to be set on a copy of a slice from a DataFrame.\n",
      "Try using .loc[row_indexer,col_indexer] = value instead\n",
      "\n",
      "See the caveats in the documentation: https://pandas.pydata.org/pandas-docs/stable/user_guide/indexing.html#returning-a-view-versus-a-copy\n",
      "  self[name] = value\n"
     ]
    }
   ],
   "source": [
    "#this converts the numeric date back to datetime (just to make the graph prettier)\n",
    "#this is for actual date\n",
    "for i in range(len(data)):\n",
    "  your_timestamp = data.iloc[i,0]\n",
    "  date = datetime.datetime.fromtimestamp(your_timestamp/1e9)\n",
    "  data.iloc[i,0] = date.date()\n",
    "data.date = pd.to_datetime(data['date'])\n",
    "\n",
    "#this is for the X_test\n",
    "for i in range(len(X_test)):\n",
    "  your_timestamp = X_test.iloc[i,0]\n",
    "  date = datetime.datetime.fromtimestamp(your_timestamp/1e9)\n",
    "  X_test.iloc[i,0] = date.date()\n",
    "X_test.date = pd.to_datetime(X_test['date'])"
   ]
  },
  {
   "cell_type": "code",
   "execution_count": 99,
   "metadata": {
    "colab": {
     "background_save": true
    },
    "id": "E-T1ChiUSbqj"
   },
   "outputs": [
    {
     "name": "stderr",
     "output_type": "stream",
     "text": [
      "/opt/anaconda3/lib/python3.8/site-packages/seaborn/_decorators.py:36: FutureWarning: Pass the following variables as keyword args: x, y. From version 0.12, the only valid positional argument will be `data`, and passing other arguments without an explicit keyword will result in an error or misinterpretation.\n",
      "  warnings.warn(\n"
     ]
    },
    {
     "data": {
      "image/png": "[encoded data removed]",
      "text/plain": [
       "<Figure size 1080x720 with 1 Axes>"
      ]
     },
     "metadata": {
      "needs_background": "light"
     },
     "output_type": "display_data"
    }
   ],
   "source": [
    "#PLOT THE LINEAR REGRESSION MODEL WITH PREDICTED VALUES\n",
    "# this increases the figure size for added viewability\n",
    "from pylab import rcParams\n",
    "rcParams['figure.figsize'] = 15, 10\n",
    "\n",
    "#plots the linear regression model\n",
    "plt.plot(data['date'],y, label =\"actual data\")\n",
    "ax = sns.lineplot(X_test['date'],y_pred, label =\"predicted data\")\n",
    "plt.show()"
   ]
  },
  {
   "cell_type": "markdown",
   "metadata": {
    "id": "qYoc6NjM9p4m"
   },
   "source": [
    "The Model above we trained multiple different linear regression models, we below we will train the random forest model below."
   ]
  },
  {
   "cell_type": "markdown",
   "metadata": {
    "id": "801Ox28UAF1S"
   },
   "source": [
    "We start by splitting the data using Train_test_split"
   ]
  },
  {
   "cell_type": "code",
   "execution_count": 100,
   "metadata": {
    "colab": {
     "background_save": true
    },
    "id": "VkikTsfW9pnp"
   },
   "outputs": [],
   "source": [
    "Xtrain, Xtest, ytrain, ytest = train_test_split(X, y, test_size=0.3, random_state=0)"
   ]
  },
  {
   "cell_type": "markdown",
   "metadata": {
    "id": "iaKHepXIELZr"
   },
   "source": [
    "we will trian the Random Forrest here "
   ]
  },
  {
   "cell_type": "code",
   "execution_count": 101,
   "metadata": {
    "colab": {
     "background_save": true
    },
    "id": "sQaFeTypELMu"
   },
   "outputs": [],
   "source": [
    "# Create RF\n",
    "# Here we use the Gini index for our criterion (lower gini score is better)\n",
    "# rf = RandomForestRegressor(n_estimators=1000, criterion='gini', max_depth=None, n_jobs=-1, random_state=0)\n",
    "rf = RandomForestRegressor(n_estimators=1000, max_depth=None, n_jobs=-1, random_state=0)\n",
    "\n",
    "# Now we'll train/test\n",
    "rf.fit(X_train,y_train)\n",
    "ypr = rf.predict(Xtest)\n",
    "\n",
    "\n",
    "\n",
    "\n"
   ]
  },
  {
   "cell_type": "code",
   "execution_count": 102,
   "metadata": {
    "colab": {
     "background_save": true
    },
    "id": "_VFc0JloNihl"
   },
   "outputs": [
    {
     "data": {
      "text/plain": [
       "array([118.6589287, 113.7053076, 129.4241948, 133.3022285, 127.796985 ,\n",
       "       117.7870791, 135.0838208, 113.1524745, 108.0884627, 114.7086236,\n",
       "       113.8235494, 102.9402961, 119.5205502, 116.5402062, 138.9608777,\n",
       "       118.6204317, 115.6706818, 115.5717457, 137.8728358, 110.253635 ,\n",
       "       113.7722363, 119.9936705,  89.5356076, 113.7041205, 134.4853229,\n",
       "       115.2762879, 128.7945374, 121.4427938, 114.2224924, 120.9218334,\n",
       "       116.867782 , 101.1859242, 132.9750187, 110.026052 ,  98.9026043,\n",
       "       135.8048908,  94.1923414, 130.1994782, 118.3351485, 119.6391986,\n",
       "       127.099333 , 129.5909865, 114.7750937, 114.6787344, 104.4010504,\n",
       "       100.1202337, 113.1092487,  89.4065431, 108.3813326, 130.7724389,\n",
       "       130.0132373, 131.2314909, 131.1738371, 122.3268184, 118.8721889,\n",
       "       115.114815 , 125.9868939, 129.4716947, 111.2744203, 124.3035753,\n",
       "       127.2383512, 105.6390268, 130.7159656, 123.3993901, 133.5518582,\n",
       "       114.2005597, 124.3858691, 115.057931 , 126.8769765, 116.0083284,\n",
       "       109.8736301, 113.2025547,  96.4852067, 123.3806147, 114.3263348,\n",
       "       112.5959772, 108.6894481, 119.2033047, 123.8209598, 142.3329174,\n",
       "       131.6894973, 112.9165102, 129.1566699, 102.3859093, 134.3743212,\n",
       "       106.220373 , 128.7605626, 111.9244671, 130.8207979, 122.085756 ,\n",
       "       121.1625344, 118.3086696, 114.8722455, 112.7028978, 138.6026971,\n",
       "       110.1658664, 114.966999 , 115.860208 , 116.8500797, 136.7504483,\n",
       "       118.9505031, 129.0655038, 107.564206 , 134.7908801, 136.8550614,\n",
       "       114.244425 , 113.7583941, 101.6427613, 114.7565903, 128.3785957,\n",
       "       124.7956221, 105.9154911,  99.7627123, 119.8186541, 104.7380869,\n",
       "       105.9663216, 124.3426225,  96.4208722, 127.990484 , 120.8100645,\n",
       "       143.8258441, 102.7600895, 110.9319666, 103.20479  , 117.1916188,\n",
       "       115.8152298, 115.4474113, 104.1428211, 134.4711151, 127.9552919,\n",
       "       129.1608837, 110.0871575, 118.0801559, 112.1217658, 118.3914948,\n",
       "       136.3819944, 133.4006014, 144.9821867, 120.3653059, 134.049536 ,\n",
       "       135.9336811, 110.5609206, 104.1834441, 124.2153272, 114.6472692,\n",
       "       112.449165 , 106.2056948,  88.5331363, 135.624463 , 119.2472517,\n",
       "       122.0737488, 132.9684791, 113.1030306, 112.8081541, 136.2256992,\n",
       "       131.8471931, 115.2899027, 134.5248841, 116.0679171, 115.4699552,\n",
       "       124.2411757, 133.3451259, 133.3692073, 139.3206756, 117.4899805,\n",
       "       114.4027762, 113.0147709, 136.2120697, 126.3057056, 109.4274856,\n",
       "       121.6582201, 111.0890342, 119.4140669, 118.0830589, 132.6740105,\n",
       "       128.2543343, 115.2125022, 138.8029175, 123.5337316, 115.3148636,\n",
       "       127.5913954, 110.8448378, 131.6426187, 129.0985089, 114.7366092,\n",
       "       124.4538538, 116.8991682, 113.8492348, 115.9897248, 113.2149829,\n",
       "       112.9516639, 112.2006426, 120.8425413,  93.6991698, 141.6576567,\n",
       "       105.9689681, 122.347259 , 116.0827191, 139.9752661, 123.0847879,\n",
       "       110.3694539, 120.6595302, 102.9659565, 116.5615433, 134.0301441,\n",
       "       133.5192323, 137.0031567, 111.7600958, 117.5573636, 110.0615992,\n",
       "       115.5274455, 101.1780834, 117.1583892, 112.8941258, 118.9263806,\n",
       "       107.892455 , 120.295194 , 114.9903446, 100.8802092, 135.2521625,\n",
       "       103.2294838, 108.0091648, 114.5609888, 109.8496503, 130.494401 ,\n",
       "       123.8087034, 107.3109487, 109.8386871, 133.6018798, 127.8955202,\n",
       "       136.6559727, 111.8994142, 124.6395934, 109.1095473, 121.7568222,\n",
       "       131.2088727, 129.8234835, 122.8523832, 132.3467141, 102.3553557,\n",
       "       127.0883547, 130.6052004, 116.7531723, 111.5520889, 117.0070889,\n",
       "       114.1605349, 114.7252227, 129.8208346, 132.7039765, 101.4007418,\n",
       "       116.717716 , 113.7615402,  99.0993012, 127.8962792, 132.9186275,\n",
       "       105.8901677, 111.8961891, 110.8963723, 114.6118126, 117.5010275,\n",
       "        98.1382542, 132.9504895, 110.0857651, 111.5277641, 104.9877049,\n",
       "       114.7138059, 115.9586241, 102.9679644, 132.5419533, 128.7409355,\n",
       "       116.0321912, 124.5004712, 119.8340546, 129.4153262, 127.9198075,\n",
       "       130.6692952, 108.5371582, 115.7519094, 114.9418551, 114.3218879,\n",
       "       100.0977171, 120.8280012, 122.3769886, 133.3594985, 118.2568883,\n",
       "       128.1122764, 131.2478432, 101.6430839, 122.5600664, 129.7006009,\n",
       "       115.1216804, 110.4860415, 133.1592518, 134.8038445, 113.9171667,\n",
       "       130.3435399, 134.6508036, 135.1942383, 120.4763658, 110.2001118,\n",
       "       110.6755216, 113.7753212, 118.8874618, 123.7169448, 116.2488972,\n",
       "       111.1881333, 133.6126568, 108.9417709, 114.7120168, 133.8429788,\n",
       "       114.390462 , 104.0642406, 117.7056945, 117.1758878,  93.482707 ,\n",
       "       132.389172 , 120.5148204, 116.8776374, 110.4752105, 128.3565312,\n",
       "       110.9174033, 123.9326075, 124.1035155, 116.2487878, 134.3712085,\n",
       "       105.033316 , 133.2887072, 118.8931487, 111.4943404, 131.0682612,\n",
       "       132.3888984, 127.6544979,  87.8765913, 115.0373748, 111.3135488,\n",
       "       132.2543052, 143.7285552, 134.5475325, 119.7430223, 123.1504821,\n",
       "       132.2998628, 131.3443727, 121.044305 , 104.0481091, 113.9445604,\n",
       "       134.3209138, 131.4667153, 100.1648281, 112.4515159, 120.3705708,\n",
       "       126.8111501, 104.0602725, 126.6248568, 112.2212168, 124.2107816,\n",
       "       131.2331843, 113.1471051, 123.0181069, 114.3826973, 117.4512243,\n",
       "       127.0048867, 132.0037284, 129.2286108, 100.3159563, 135.6781012,\n",
       "       100.8881773, 120.3362129, 135.246337 , 109.454063 , 107.9009553,\n",
       "       102.125972 ,  90.8414517, 127.2647206, 120.1662006, 137.7780772,\n",
       "       114.4253694, 120.4451031, 121.7706831, 110.8009082, 131.7032633,\n",
       "       105.8379377, 139.1100704, 114.4039756, 116.1080336, 113.6680218,\n",
       "       134.0120472, 129.0176697, 121.6734404, 115.7898335, 126.676897 ,\n",
       "       106.1514437, 123.6537   , 132.5547263, 106.7894274, 132.4490636,\n",
       "       115.3885336,  99.6614958, 100.2305496, 115.8081911, 131.6486764,\n",
       "       143.2833327, 101.1190863, 112.0723998, 124.2854976, 109.3915447,\n",
       "       130.5417221, 118.4742054, 118.2315181, 117.7365088,  96.887454 ,\n",
       "       115.118377 , 122.4998706, 111.3510413, 114.3491458, 138.9805073,\n",
       "       118.943816 , 114.5876096, 119.9932279, 137.8854963,  99.1722543,\n",
       "       130.6557144, 118.4257971, 116.997659 , 119.3963715, 124.85334  ,\n",
       "       122.6052752, 141.3639408, 100.2317478, 135.4892623, 118.3510668,\n",
       "       143.6710092, 111.9395272, 120.8661538, 139.697372 , 116.0175601,\n",
       "       122.1515631, 125.9183829, 121.0999328, 120.7285975, 111.8961983,\n",
       "       115.9651493,  91.3537798, 120.0186697, 113.4733755, 123.3078467,\n",
       "       133.3852726, 108.4317322, 135.6633137, 145.1573276, 126.4457399,\n",
       "       128.5758804, 120.1411108, 121.3514892, 118.7099999, 111.8221532,\n",
       "       118.3278592, 116.1262812, 110.510092 , 108.9103486, 111.0113979,\n",
       "       113.4038453, 118.770476 , 121.8064873, 114.585944 , 117.7002251,\n",
       "       144.5681086, 141.9038537, 130.7442823, 131.3949743, 136.099766 ,\n",
       "       125.0647791, 132.636979 , 119.0485377, 102.0950986, 119.2468267,\n",
       "       127.7217031, 116.9980974, 113.4177741, 136.1907321, 140.6779017,\n",
       "       132.4094531, 110.8284093, 131.1386063, 123.4223089, 112.9750947,\n",
       "       110.6257831, 119.3229139, 113.0560881, 129.1385305,  93.4025564,\n",
       "        99.142372 , 114.854105 , 101.6251667, 118.7079266, 135.1573886,\n",
       "       134.3330139, 124.873694 ,  97.54169  , 116.7411839, 110.2067201,\n",
       "       115.1645034, 132.2720416, 115.0891689, 116.6066004, 120.5366754,\n",
       "       107.3193663, 116.8811694, 127.0945316, 126.4319674, 124.4118055,\n",
       "        99.7215334, 121.0921181, 132.7071156, 124.8287058, 111.0242747,\n",
       "       117.5497837, 127.9980683, 133.6877957, 117.9855579, 116.7760146,\n",
       "       111.9839156, 114.095614 ,  94.4102671, 121.0329973, 118.9901444,\n",
       "       118.3432986, 104.3207764, 144.8549349, 105.8727605, 125.7110098,\n",
       "       121.0198688, 134.7669196, 118.2339809, 129.1473395, 120.7476192,\n",
       "       112.4537752, 101.6103711, 114.9419144, 127.0752575, 104.0539169,\n",
       "       135.5834952, 130.2516243, 112.934611 , 120.4338219, 119.5056153,\n",
       "       116.8333767, 117.3335501, 134.4173814, 111.1347697, 133.5455575,\n",
       "       137.7349963, 123.4486806, 125.9828242, 134.0731553, 124.5238651,\n",
       "       133.5835899,  90.091721 , 130.9165208, 118.7967592, 135.1657852,\n",
       "        97.2120306, 117.940324 ,  99.9190841, 118.6374583, 130.5446388,\n",
       "       134.438553 , 145.0294146, 117.3647398, 128.6881036, 113.9858098,\n",
       "       111.3384858, 119.3435717, 125.8465306, 125.0843222, 135.3914657,\n",
       "       124.4020441, 112.8459051, 123.5054805, 115.622405 , 114.5848145,\n",
       "       120.6734621, 138.1771554, 136.2547844, 138.0936402, 131.7834759,\n",
       "       123.3628727, 111.2829505, 111.2489279, 137.8818114, 126.7954478,\n",
       "       121.5962512, 124.4907669, 128.8320828, 111.5615882, 116.3585676,\n",
       "       134.0153468, 113.8078982, 119.7082114, 121.5033409, 112.6020223,\n",
       "       122.520816 , 132.5640238, 130.2148501, 116.9142366, 113.4293583,\n",
       "       121.8569854, 114.0815786, 119.0571112, 130.4639554, 135.3685185,\n",
       "       114.0730672, 123.8384209, 133.3450951, 104.5736494, 128.943835 ,\n",
       "       131.2309307, 100.9027539, 113.9928047, 135.1170418, 117.0325203,\n",
       "       115.9673713, 101.0542945, 115.9626782, 101.1392312, 114.5397474,\n",
       "       137.3831799, 111.3090265, 124.568739 , 121.1916343, 126.9107346,\n",
       "       136.5872662, 118.8587868, 110.546749 , 102.1456247, 109.8404205,\n",
       "       114.7097054, 116.9816231, 138.9301599, 121.7743885, 120.6917488,\n",
       "       126.5683547, 113.7338384, 121.5583418, 127.7471481, 132.5014913,\n",
       "       100.1689565, 112.4944765, 106.7722396, 118.2063194, 121.920169 ,\n",
       "       139.1493719, 129.8783961, 137.9318316, 121.0447807, 117.1177177,\n",
       "       134.8111162, 127.6956289, 126.9076547, 130.957914 , 145.0205366,\n",
       "       115.8031366, 113.6900203, 122.2961146, 128.6082282, 121.3425027,\n",
       "       117.5565061, 120.8346299, 135.4018859, 125.7724615, 129.8496595,\n",
       "       116.0456865,  95.6335446, 131.9859894, 107.9993574, 129.6678495,\n",
       "        97.1271181, 136.3105945, 130.8506045, 134.5142354, 115.071938 ,\n",
       "       127.7758306, 126.4323906, 135.1676885, 105.1568296, 114.7053365,\n",
       "       113.1626358, 128.9344275, 123.5620423,  88.2560189, 121.3230604,\n",
       "       112.8337033, 100.2242275, 114.7484829, 119.7198614,  97.7690029,\n",
       "       115.01548  , 116.00518  , 126.490574 , 141.2362525, 131.8818151,\n",
       "       143.9915773, 116.8583778, 135.1215485, 113.8240616, 113.993083 ,\n",
       "       131.0353064, 134.9334682, 115.7723664, 115.7979265, 113.9485093,\n",
       "       128.7294765, 101.0622748, 112.4337143, 116.8056413, 120.0002064,\n",
       "       123.5037218, 122.2105143, 121.8570634, 116.1671825, 119.7797836,\n",
       "       134.5173844, 111.6243801, 134.3589706, 114.6819051, 131.9883736,\n",
       "       117.5981077, 108.8739048, 131.1775528, 114.9984681, 115.6042529,\n",
       "       119.8373646, 121.9255361, 110.8768655, 116.4875555, 132.3894452,\n",
       "       114.7683891, 112.728265 , 118.3729057, 120.1695035, 108.0488705,\n",
       "       112.8291255, 126.2315945, 121.6135157, 126.9758595, 120.5822493,\n",
       "       137.8812142])"
      ]
     },
     "execution_count": 102,
     "metadata": {},
     "output_type": "execute_result"
    }
   ],
   "source": [
    "ypr"
   ]
  },
  {
   "cell_type": "markdown",
   "metadata": {
    "id": "4ec9tvhaZtIb"
   },
   "source": [
    "Next, we run an XGBoost Model:"
   ]
  },
  {
   "cell_type": "code",
   "execution_count": 103,
   "metadata": {
    "colab": {
     "background_save": true
    },
    "id": "W4PL2z8waJ8U"
   },
   "outputs": [],
   "source": [
    "from xgboost import XGBRegressor"
   ]
  },
  {
   "cell_type": "code",
   "execution_count": 104,
   "metadata": {
    "colab": {
     "background_save": true
    },
    "id": "8KuwN2X8bvoX"
   },
   "outputs": [],
   "source": [
    "# xgbparams={\n",
    "#     \"n_estimators\":1000, \n",
    "#     \"max_depth\":7,  #default is 6\n",
    "#     \"eta\":0.1,  #learning rate, default is 0.3\n",
    "#     \"subsample\":0.7, \n",
    "#     \"colsample_bytree\":0.8,\n",
    "#     'booster':'gbtree',\n",
    "#     'gamma':0.001\n",
    "# }\n",
    "\n",
    "xgbparams = {\n",
    "        'learning_rate': np.linspace(0,1,20),\n",
    "        'gamma': np.linspace(0,3,10),\n",
    "        'max_depth': np.linspace(2,31,30).astype('int')\n",
    "        }"
   ]
  },
  {
   "cell_type": "markdown",
   "metadata": {
    "id": "zbji5uWpOJ3N"
   },
   "source": [
    "Parameter Tuning:"
   ]
  },
  {
   "cell_type": "code",
   "execution_count": 105,
   "metadata": {
    "colab": {
     "background_save": true
    },
    "id": "gT2LbDy5cNBS"
   },
   "outputs": [],
   "source": [
    "xgbreg = XGBRegressor(learning_rate=0.02, n_estimators=600, objective='reg:linear',\n",
    "                    silent=True, nthread=1)"
   ]
  },
  {
   "cell_type": "code",
   "execution_count": 106,
   "metadata": {
    "colab": {
     "background_save": true
    },
    "id": "2oXfFR-_LFvm"
   },
   "outputs": [],
   "source": [
    "# grid = GridSearchCV(xgbreg, xgbparams, cv = 5, scoring = 'neg_mean_squared_error', n_jobs = -1, refit = False,verbose=100)\n",
    "# grid.fit(Xtrain,ytrain,verbose=True)\n",
    "\n"
   ]
  },
  {
   "cell_type": "code",
   "execution_count": 107,
   "metadata": {
    "colab": {
     "background_save": true
    },
    "id": "FxXTcg-hqWHV"
   },
   "outputs": [],
   "source": [
    "# ypred_xgb = xgbreg.predict(Xtest)"
   ]
  },
  {
   "cell_type": "code",
   "execution_count": 108,
   "metadata": {
    "colab": {
     "background_save": true,
     "base_uri": "https://localhost:8080/",
     "height": 698
    },
    "executionInfo": {
     "elapsed": 22173,
     "status": "error",
     "timestamp": 1638464731001,
     "user": {
      "displayName": "你爹",
      "photoUrl": "https://lh3.googleusercontent.com/a-/AOh14GjCi1okHI2YGXN7X-svX4rhe1BazxDJYLw75LJ42Q=s64",
      "userId": "02963737422131159242"
     },
     "user_tz": 300
    },
    "id": "J3mNS5LIAD6j"
   },
   "outputs": [
    {
     "name": "stdout",
     "output_type": "stream",
     "text": [
      "2\n",
      "3\n",
      "4\n",
      "5\n",
      "6\n",
      "7\n",
      "8\n",
      "9\n",
      "10\n",
      "11\n"
     ]
    },
    {
     "ename": "KeyboardInterrupt",
     "evalue": "",
     "output_type": "error",
     "traceback": [
      "\u001b[0;31m---------------------------------------------------------------------------\u001b[0m",
      "\u001b[0;31mKeyboardInterrupt\u001b[0m                         Traceback (most recent call last)",
      "\u001b[0;32m<ipython-input-108-5c4430dfa67a>\u001b[0m in \u001b[0;36m<module>\u001b[0;34m\u001b[0m\n\u001b[1;32m      4\u001b[0m     \u001b[0mprint\u001b[0m\u001b[0;34m(\u001b[0m\u001b[0mi\u001b[0m\u001b[0;34m)\u001b[0m\u001b[0;34m\u001b[0m\u001b[0;34m\u001b[0m\u001b[0m\n\u001b[1;32m      5\u001b[0m     \u001b[0mtree\u001b[0m\u001b[0;34m=\u001b[0m\u001b[0mXGBRegressor\u001b[0m\u001b[0;34m(\u001b[0m\u001b[0mmax_depth\u001b[0m\u001b[0;34m=\u001b[0m\u001b[0mi\u001b[0m\u001b[0;34m,\u001b[0m\u001b[0mobjective\u001b[0m\u001b[0;34m=\u001b[0m\u001b[0;34m'reg:squarederror'\u001b[0m\u001b[0;34m)\u001b[0m\u001b[0;34m.\u001b[0m\u001b[0mfit\u001b[0m\u001b[0;34m(\u001b[0m\u001b[0mXtrain\u001b[0m\u001b[0;34m,\u001b[0m\u001b[0mytrain\u001b[0m\u001b[0;34m)\u001b[0m\u001b[0;34m\u001b[0m\u001b[0;34m\u001b[0m\u001b[0m\n\u001b[0;32m----> 6\u001b[0;31m     \u001b[0mcvsc\u001b[0m\u001b[0;34m[\u001b[0m\u001b[0mi\u001b[0m\u001b[0;34m-\u001b[0m\u001b[0;36m2\u001b[0m\u001b[0;34m]\u001b[0m\u001b[0;34m=\u001b[0m\u001b[0mcross_val_score\u001b[0m\u001b[0;34m(\u001b[0m\u001b[0mtree\u001b[0m\u001b[0;34m,\u001b[0m\u001b[0mXtrain\u001b[0m\u001b[0;34m,\u001b[0m\u001b[0mytrain\u001b[0m\u001b[0;34m,\u001b[0m\u001b[0mcv\u001b[0m\u001b[0;34m=\u001b[0m\u001b[0;36m5\u001b[0m\u001b[0;34m,\u001b[0m\u001b[0mscoring\u001b[0m\u001b[0;34m=\u001b[0m\u001b[0;34m'neg_mean_squared_error'\u001b[0m\u001b[0;34m)\u001b[0m\u001b[0;34m.\u001b[0m\u001b[0mmean\u001b[0m\u001b[0;34m(\u001b[0m\u001b[0;34m)\u001b[0m\u001b[0;34m\u001b[0m\u001b[0;34m\u001b[0m\u001b[0m\n\u001b[0m",
      "\u001b[0;32m/opt/anaconda3/lib/python3.8/site-packages/sklearn/utils/validation.py\u001b[0m in \u001b[0;36minner_f\u001b[0;34m(*args, **kwargs)\u001b[0m\n\u001b[1;32m     61\u001b[0m             \u001b[0mextra_args\u001b[0m \u001b[0;34m=\u001b[0m \u001b[0mlen\u001b[0m\u001b[0;34m(\u001b[0m\u001b[0margs\u001b[0m\u001b[0;34m)\u001b[0m \u001b[0;34m-\u001b[0m \u001b[0mlen\u001b[0m\u001b[0;34m(\u001b[0m\u001b[0mall_args\u001b[0m\u001b[0;34m)\u001b[0m\u001b[0;34m\u001b[0m\u001b[0;34m\u001b[0m\u001b[0m\n\u001b[1;32m     62\u001b[0m             \u001b[0;32mif\u001b[0m \u001b[0mextra_args\u001b[0m \u001b[0;34m<=\u001b[0m \u001b[0;36m0\u001b[0m\u001b[0;34m:\u001b[0m\u001b[0;34m\u001b[0m\u001b[0;34m\u001b[0m\u001b[0m\n\u001b[0;32m---> 63\u001b[0;31m                 \u001b[0;32mreturn\u001b[0m \u001b[0mf\u001b[0m\u001b[0;34m(\u001b[0m\u001b[0;34m*\u001b[0m\u001b[0margs\u001b[0m\u001b[0;34m,\u001b[0m \u001b[0;34m**\u001b[0m\u001b[0mkwargs\u001b[0m\u001b[0;34m)\u001b[0m\u001b[0;34m\u001b[0m\u001b[0;34m\u001b[0m\u001b[0m\n\u001b[0m\u001b[1;32m     64\u001b[0m \u001b[0;34m\u001b[0m\u001b[0m\n\u001b[1;32m     65\u001b[0m             \u001b[0;31m# extra_args > 0\u001b[0m\u001b[0;34m\u001b[0m\u001b[0;34m\u001b[0m\u001b[0;34m\u001b[0m\u001b[0m\n",
      "\u001b[0;32m/opt/anaconda3/lib/python3.8/site-packages/sklearn/model_selection/_validation.py\u001b[0m in \u001b[0;36mcross_val_score\u001b[0;34m(estimator, X, y, groups, scoring, cv, n_jobs, verbose, fit_params, pre_dispatch, error_score)\u001b[0m\n\u001b[1;32m    443\u001b[0m     \u001b[0mscorer\u001b[0m \u001b[0;34m=\u001b[0m \u001b[0mcheck_scoring\u001b[0m\u001b[0;34m(\u001b[0m\u001b[0mestimator\u001b[0m\u001b[0;34m,\u001b[0m \u001b[0mscoring\u001b[0m\u001b[0;34m=\u001b[0m\u001b[0mscoring\u001b[0m\u001b[0;34m)\u001b[0m\u001b[0;34m\u001b[0m\u001b[0;34m\u001b[0m\u001b[0m\n\u001b[1;32m    444\u001b[0m \u001b[0;34m\u001b[0m\u001b[0m\n\u001b[0;32m--> 445\u001b[0;31m     cv_results = cross_validate(estimator=estimator, X=X, y=y, groups=groups,\n\u001b[0m\u001b[1;32m    446\u001b[0m                                 \u001b[0mscoring\u001b[0m\u001b[0;34m=\u001b[0m\u001b[0;34m{\u001b[0m\u001b[0;34m'score'\u001b[0m\u001b[0;34m:\u001b[0m \u001b[0mscorer\u001b[0m\u001b[0;34m}\u001b[0m\u001b[0;34m,\u001b[0m \u001b[0mcv\u001b[0m\u001b[0;34m=\u001b[0m\u001b[0mcv\u001b[0m\u001b[0;34m,\u001b[0m\u001b[0;34m\u001b[0m\u001b[0;34m\u001b[0m\u001b[0m\n\u001b[1;32m    447\u001b[0m                                 \u001b[0mn_jobs\u001b[0m\u001b[0;34m=\u001b[0m\u001b[0mn_jobs\u001b[0m\u001b[0;34m,\u001b[0m \u001b[0mverbose\u001b[0m\u001b[0;34m=\u001b[0m\u001b[0mverbose\u001b[0m\u001b[0;34m,\u001b[0m\u001b[0;34m\u001b[0m\u001b[0;34m\u001b[0m\u001b[0m\n",
      "\u001b[0;32m/opt/anaconda3/lib/python3.8/site-packages/sklearn/utils/validation.py\u001b[0m in \u001b[0;36minner_f\u001b[0;34m(*args, **kwargs)\u001b[0m\n\u001b[1;32m     61\u001b[0m             \u001b[0mextra_args\u001b[0m \u001b[0;34m=\u001b[0m \u001b[0mlen\u001b[0m\u001b[0;34m(\u001b[0m\u001b[0margs\u001b[0m\u001b[0;34m)\u001b[0m \u001b[0;34m-\u001b[0m \u001b[0mlen\u001b[0m\u001b[0;34m(\u001b[0m\u001b[0mall_args\u001b[0m\u001b[0;34m)\u001b[0m\u001b[0;34m\u001b[0m\u001b[0;34m\u001b[0m\u001b[0m\n\u001b[1;32m     62\u001b[0m             \u001b[0;32mif\u001b[0m \u001b[0mextra_args\u001b[0m \u001b[0;34m<=\u001b[0m \u001b[0;36m0\u001b[0m\u001b[0;34m:\u001b[0m\u001b[0;34m\u001b[0m\u001b[0;34m\u001b[0m\u001b[0m\n\u001b[0;32m---> 63\u001b[0;31m                 \u001b[0;32mreturn\u001b[0m \u001b[0mf\u001b[0m\u001b[0;34m(\u001b[0m\u001b[0;34m*\u001b[0m\u001b[0margs\u001b[0m\u001b[0;34m,\u001b[0m \u001b[0;34m**\u001b[0m\u001b[0mkwargs\u001b[0m\u001b[0;34m)\u001b[0m\u001b[0;34m\u001b[0m\u001b[0;34m\u001b[0m\u001b[0m\n\u001b[0m\u001b[1;32m     64\u001b[0m \u001b[0;34m\u001b[0m\u001b[0m\n\u001b[1;32m     65\u001b[0m             \u001b[0;31m# extra_args > 0\u001b[0m\u001b[0;34m\u001b[0m\u001b[0;34m\u001b[0m\u001b[0;34m\u001b[0m\u001b[0m\n",
      "\u001b[0;32m/opt/anaconda3/lib/python3.8/site-packages/sklearn/model_selection/_validation.py\u001b[0m in \u001b[0;36mcross_validate\u001b[0;34m(estimator, X, y, groups, scoring, cv, n_jobs, verbose, fit_params, pre_dispatch, return_train_score, return_estimator, error_score)\u001b[0m\n\u001b[1;32m    248\u001b[0m     parallel = Parallel(n_jobs=n_jobs, verbose=verbose,\n\u001b[1;32m    249\u001b[0m                         pre_dispatch=pre_dispatch)\n\u001b[0;32m--> 250\u001b[0;31m     results = parallel(\n\u001b[0m\u001b[1;32m    251\u001b[0m         delayed(_fit_and_score)(\n\u001b[1;32m    252\u001b[0m             \u001b[0mclone\u001b[0m\u001b[0;34m(\u001b[0m\u001b[0mestimator\u001b[0m\u001b[0;34m)\u001b[0m\u001b[0;34m,\u001b[0m \u001b[0mX\u001b[0m\u001b[0;34m,\u001b[0m \u001b[0my\u001b[0m\u001b[0;34m,\u001b[0m \u001b[0mscorers\u001b[0m\u001b[0;34m,\u001b[0m \u001b[0mtrain\u001b[0m\u001b[0;34m,\u001b[0m \u001b[0mtest\u001b[0m\u001b[0;34m,\u001b[0m \u001b[0mverbose\u001b[0m\u001b[0;34m,\u001b[0m \u001b[0;32mNone\u001b[0m\u001b[0;34m,\u001b[0m\u001b[0;34m\u001b[0m\u001b[0;34m\u001b[0m\u001b[0m\n",
      "\u001b[0;32m/opt/anaconda3/lib/python3.8/site-packages/joblib/parallel.py\u001b[0m in \u001b[0;36m__call__\u001b[0;34m(self, iterable)\u001b[0m\n\u001b[1;32m   1042\u001b[0m                 \u001b[0mself\u001b[0m\u001b[0;34m.\u001b[0m\u001b[0m_iterating\u001b[0m \u001b[0;34m=\u001b[0m \u001b[0mself\u001b[0m\u001b[0;34m.\u001b[0m\u001b[0m_original_iterator\u001b[0m \u001b[0;32mis\u001b[0m \u001b[0;32mnot\u001b[0m \u001b[0;32mNone\u001b[0m\u001b[0;34m\u001b[0m\u001b[0;34m\u001b[0m\u001b[0m\n\u001b[1;32m   1043\u001b[0m \u001b[0;34m\u001b[0m\u001b[0m\n\u001b[0;32m-> 1044\u001b[0;31m             \u001b[0;32mwhile\u001b[0m \u001b[0mself\u001b[0m\u001b[0;34m.\u001b[0m\u001b[0mdispatch_one_batch\u001b[0m\u001b[0;34m(\u001b[0m\u001b[0miterator\u001b[0m\u001b[0;34m)\u001b[0m\u001b[0;34m:\u001b[0m\u001b[0;34m\u001b[0m\u001b[0;34m\u001b[0m\u001b[0m\n\u001b[0m\u001b[1;32m   1045\u001b[0m                 \u001b[0;32mpass\u001b[0m\u001b[0;34m\u001b[0m\u001b[0;34m\u001b[0m\u001b[0m\n\u001b[1;32m   1046\u001b[0m \u001b[0;34m\u001b[0m\u001b[0m\n",
      "\u001b[0;32m/opt/anaconda3/lib/python3.8/site-packages/joblib/parallel.py\u001b[0m in \u001b[0;36mdispatch_one_batch\u001b[0;34m(self, iterator)\u001b[0m\n\u001b[1;32m    857\u001b[0m                 \u001b[0;32mreturn\u001b[0m \u001b[0;32mFalse\u001b[0m\u001b[0;34m\u001b[0m\u001b[0;34m\u001b[0m\u001b[0m\n\u001b[1;32m    858\u001b[0m             \u001b[0;32melse\u001b[0m\u001b[0;34m:\u001b[0m\u001b[0;34m\u001b[0m\u001b[0;34m\u001b[0m\u001b[0m\n\u001b[0;32m--> 859\u001b[0;31m                 \u001b[0mself\u001b[0m\u001b[0;34m.\u001b[0m\u001b[0m_dispatch\u001b[0m\u001b[0;34m(\u001b[0m\u001b[0mtasks\u001b[0m\u001b[0;34m)\u001b[0m\u001b[0;34m\u001b[0m\u001b[0;34m\u001b[0m\u001b[0m\n\u001b[0m\u001b[1;32m    860\u001b[0m                 \u001b[0;32mreturn\u001b[0m \u001b[0;32mTrue\u001b[0m\u001b[0;34m\u001b[0m\u001b[0;34m\u001b[0m\u001b[0m\n\u001b[1;32m    861\u001b[0m \u001b[0;34m\u001b[0m\u001b[0m\n",
      "\u001b[0;32m/opt/anaconda3/lib/python3.8/site-packages/joblib/parallel.py\u001b[0m in \u001b[0;36m_dispatch\u001b[0;34m(self, batch)\u001b[0m\n\u001b[1;32m    775\u001b[0m         \u001b[0;32mwith\u001b[0m \u001b[0mself\u001b[0m\u001b[0;34m.\u001b[0m\u001b[0m_lock\u001b[0m\u001b[0;34m:\u001b[0m\u001b[0;34m\u001b[0m\u001b[0;34m\u001b[0m\u001b[0m\n\u001b[1;32m    776\u001b[0m             \u001b[0mjob_idx\u001b[0m \u001b[0;34m=\u001b[0m \u001b[0mlen\u001b[0m\u001b[0;34m(\u001b[0m\u001b[0mself\u001b[0m\u001b[0;34m.\u001b[0m\u001b[0m_jobs\u001b[0m\u001b[0;34m)\u001b[0m\u001b[0;34m\u001b[0m\u001b[0;34m\u001b[0m\u001b[0m\n\u001b[0;32m--> 777\u001b[0;31m             \u001b[0mjob\u001b[0m \u001b[0;34m=\u001b[0m \u001b[0mself\u001b[0m\u001b[0;34m.\u001b[0m\u001b[0m_backend\u001b[0m\u001b[0;34m.\u001b[0m\u001b[0mapply_async\u001b[0m\u001b[0;34m(\u001b[0m\u001b[0mbatch\u001b[0m\u001b[0;34m,\u001b[0m \u001b[0mcallback\u001b[0m\u001b[0;34m=\u001b[0m\u001b[0mcb\u001b[0m\u001b[0;34m)\u001b[0m\u001b[0;34m\u001b[0m\u001b[0;34m\u001b[0m\u001b[0m\n\u001b[0m\u001b[1;32m    778\u001b[0m             \u001b[0;31m# A job can complete so quickly than its callback is\u001b[0m\u001b[0;34m\u001b[0m\u001b[0;34m\u001b[0m\u001b[0;34m\u001b[0m\u001b[0m\n\u001b[1;32m    779\u001b[0m             \u001b[0;31m# called before we get here, causing self._jobs to\u001b[0m\u001b[0;34m\u001b[0m\u001b[0;34m\u001b[0m\u001b[0;34m\u001b[0m\u001b[0m\n",
      "\u001b[0;32m/opt/anaconda3/lib/python3.8/site-packages/joblib/_parallel_backends.py\u001b[0m in \u001b[0;36mapply_async\u001b[0;34m(self, func, callback)\u001b[0m\n\u001b[1;32m    206\u001b[0m     \u001b[0;32mdef\u001b[0m \u001b[0mapply_async\u001b[0m\u001b[0;34m(\u001b[0m\u001b[0mself\u001b[0m\u001b[0;34m,\u001b[0m \u001b[0mfunc\u001b[0m\u001b[0;34m,\u001b[0m \u001b[0mcallback\u001b[0m\u001b[0;34m=\u001b[0m\u001b[0;32mNone\u001b[0m\u001b[0;34m)\u001b[0m\u001b[0;34m:\u001b[0m\u001b[0;34m\u001b[0m\u001b[0;34m\u001b[0m\u001b[0m\n\u001b[1;32m    207\u001b[0m         \u001b[0;34m\"\"\"Schedule a func to be run\"\"\"\u001b[0m\u001b[0;34m\u001b[0m\u001b[0;34m\u001b[0m\u001b[0m\n\u001b[0;32m--> 208\u001b[0;31m         \u001b[0mresult\u001b[0m \u001b[0;34m=\u001b[0m \u001b[0mImmediateResult\u001b[0m\u001b[0;34m(\u001b[0m\u001b[0mfunc\u001b[0m\u001b[0;34m)\u001b[0m\u001b[0;34m\u001b[0m\u001b[0;34m\u001b[0m\u001b[0m\n\u001b[0m\u001b[1;32m    209\u001b[0m         \u001b[0;32mif\u001b[0m \u001b[0mcallback\u001b[0m\u001b[0;34m:\u001b[0m\u001b[0;34m\u001b[0m\u001b[0;34m\u001b[0m\u001b[0m\n\u001b[1;32m    210\u001b[0m             \u001b[0mcallback\u001b[0m\u001b[0;34m(\u001b[0m\u001b[0mresult\u001b[0m\u001b[0;34m)\u001b[0m\u001b[0;34m\u001b[0m\u001b[0;34m\u001b[0m\u001b[0m\n",
      "\u001b[0;32m/opt/anaconda3/lib/python3.8/site-packages/joblib/_parallel_backends.py\u001b[0m in \u001b[0;36m__init__\u001b[0;34m(self, batch)\u001b[0m\n\u001b[1;32m    570\u001b[0m         \u001b[0;31m# Don't delay the application, to avoid keeping the input\u001b[0m\u001b[0;34m\u001b[0m\u001b[0;34m\u001b[0m\u001b[0;34m\u001b[0m\u001b[0m\n\u001b[1;32m    571\u001b[0m         \u001b[0;31m# arguments in memory\u001b[0m\u001b[0;34m\u001b[0m\u001b[0;34m\u001b[0m\u001b[0;34m\u001b[0m\u001b[0m\n\u001b[0;32m--> 572\u001b[0;31m         \u001b[0mself\u001b[0m\u001b[0;34m.\u001b[0m\u001b[0mresults\u001b[0m \u001b[0;34m=\u001b[0m \u001b[0mbatch\u001b[0m\u001b[0;34m(\u001b[0m\u001b[0;34m)\u001b[0m\u001b[0;34m\u001b[0m\u001b[0;34m\u001b[0m\u001b[0m\n\u001b[0m\u001b[1;32m    573\u001b[0m \u001b[0;34m\u001b[0m\u001b[0m\n\u001b[1;32m    574\u001b[0m     \u001b[0;32mdef\u001b[0m \u001b[0mget\u001b[0m\u001b[0;34m(\u001b[0m\u001b[0mself\u001b[0m\u001b[0;34m)\u001b[0m\u001b[0;34m:\u001b[0m\u001b[0;34m\u001b[0m\u001b[0;34m\u001b[0m\u001b[0m\n",
      "\u001b[0;32m/opt/anaconda3/lib/python3.8/site-packages/joblib/parallel.py\u001b[0m in \u001b[0;36m__call__\u001b[0;34m(self)\u001b[0m\n\u001b[1;32m    260\u001b[0m         \u001b[0;31m# change the default number of processes to -1\u001b[0m\u001b[0;34m\u001b[0m\u001b[0;34m\u001b[0m\u001b[0;34m\u001b[0m\u001b[0m\n\u001b[1;32m    261\u001b[0m         \u001b[0;32mwith\u001b[0m \u001b[0mparallel_backend\u001b[0m\u001b[0;34m(\u001b[0m\u001b[0mself\u001b[0m\u001b[0;34m.\u001b[0m\u001b[0m_backend\u001b[0m\u001b[0;34m,\u001b[0m \u001b[0mn_jobs\u001b[0m\u001b[0;34m=\u001b[0m\u001b[0mself\u001b[0m\u001b[0;34m.\u001b[0m\u001b[0m_n_jobs\u001b[0m\u001b[0;34m)\u001b[0m\u001b[0;34m:\u001b[0m\u001b[0;34m\u001b[0m\u001b[0;34m\u001b[0m\u001b[0m\n\u001b[0;32m--> 262\u001b[0;31m             return [func(*args, **kwargs)\n\u001b[0m\u001b[1;32m    263\u001b[0m                     for func, args, kwargs in self.items]\n\u001b[1;32m    264\u001b[0m \u001b[0;34m\u001b[0m\u001b[0m\n",
      "\u001b[0;32m/opt/anaconda3/lib/python3.8/site-packages/joblib/parallel.py\u001b[0m in \u001b[0;36m<listcomp>\u001b[0;34m(.0)\u001b[0m\n\u001b[1;32m    260\u001b[0m         \u001b[0;31m# change the default number of processes to -1\u001b[0m\u001b[0;34m\u001b[0m\u001b[0;34m\u001b[0m\u001b[0;34m\u001b[0m\u001b[0m\n\u001b[1;32m    261\u001b[0m         \u001b[0;32mwith\u001b[0m \u001b[0mparallel_backend\u001b[0m\u001b[0;34m(\u001b[0m\u001b[0mself\u001b[0m\u001b[0;34m.\u001b[0m\u001b[0m_backend\u001b[0m\u001b[0;34m,\u001b[0m \u001b[0mn_jobs\u001b[0m\u001b[0;34m=\u001b[0m\u001b[0mself\u001b[0m\u001b[0;34m.\u001b[0m\u001b[0m_n_jobs\u001b[0m\u001b[0;34m)\u001b[0m\u001b[0;34m:\u001b[0m\u001b[0;34m\u001b[0m\u001b[0;34m\u001b[0m\u001b[0m\n\u001b[0;32m--> 262\u001b[0;31m             return [func(*args, **kwargs)\n\u001b[0m\u001b[1;32m    263\u001b[0m                     for func, args, kwargs in self.items]\n\u001b[1;32m    264\u001b[0m \u001b[0;34m\u001b[0m\u001b[0m\n",
      "\u001b[0;32m/opt/anaconda3/lib/python3.8/site-packages/sklearn/utils/fixes.py\u001b[0m in \u001b[0;36m__call__\u001b[0;34m(self, *args, **kwargs)\u001b[0m\n\u001b[1;32m    220\u001b[0m     \u001b[0;32mdef\u001b[0m \u001b[0m__call__\u001b[0m\u001b[0;34m(\u001b[0m\u001b[0mself\u001b[0m\u001b[0;34m,\u001b[0m \u001b[0;34m*\u001b[0m\u001b[0margs\u001b[0m\u001b[0;34m,\u001b[0m \u001b[0;34m**\u001b[0m\u001b[0mkwargs\u001b[0m\u001b[0;34m)\u001b[0m\u001b[0;34m:\u001b[0m\u001b[0;34m\u001b[0m\u001b[0;34m\u001b[0m\u001b[0m\n\u001b[1;32m    221\u001b[0m         \u001b[0;32mwith\u001b[0m \u001b[0mconfig_context\u001b[0m\u001b[0;34m(\u001b[0m\u001b[0;34m**\u001b[0m\u001b[0mself\u001b[0m\u001b[0;34m.\u001b[0m\u001b[0mconfig\u001b[0m\u001b[0;34m)\u001b[0m\u001b[0;34m:\u001b[0m\u001b[0;34m\u001b[0m\u001b[0;34m\u001b[0m\u001b[0m\n\u001b[0;32m--> 222\u001b[0;31m             \u001b[0;32mreturn\u001b[0m \u001b[0mself\u001b[0m\u001b[0;34m.\u001b[0m\u001b[0mfunction\u001b[0m\u001b[0;34m(\u001b[0m\u001b[0;34m*\u001b[0m\u001b[0margs\u001b[0m\u001b[0;34m,\u001b[0m \u001b[0;34m**\u001b[0m\u001b[0mkwargs\u001b[0m\u001b[0;34m)\u001b[0m\u001b[0;34m\u001b[0m\u001b[0;34m\u001b[0m\u001b[0m\n\u001b[0m",
      "\u001b[0;32m/opt/anaconda3/lib/python3.8/site-packages/sklearn/model_selection/_validation.py\u001b[0m in \u001b[0;36m_fit_and_score\u001b[0;34m(estimator, X, y, scorer, train, test, verbose, parameters, fit_params, return_train_score, return_parameters, return_n_test_samples, return_times, return_estimator, split_progress, candidate_progress, error_score)\u001b[0m\n\u001b[1;32m    596\u001b[0m             \u001b[0mestimator\u001b[0m\u001b[0;34m.\u001b[0m\u001b[0mfit\u001b[0m\u001b[0;34m(\u001b[0m\u001b[0mX_train\u001b[0m\u001b[0;34m,\u001b[0m \u001b[0;34m**\u001b[0m\u001b[0mfit_params\u001b[0m\u001b[0;34m)\u001b[0m\u001b[0;34m\u001b[0m\u001b[0;34m\u001b[0m\u001b[0m\n\u001b[1;32m    597\u001b[0m         \u001b[0;32melse\u001b[0m\u001b[0;34m:\u001b[0m\u001b[0;34m\u001b[0m\u001b[0;34m\u001b[0m\u001b[0m\n\u001b[0;32m--> 598\u001b[0;31m             \u001b[0mestimator\u001b[0m\u001b[0;34m.\u001b[0m\u001b[0mfit\u001b[0m\u001b[0;34m(\u001b[0m\u001b[0mX_train\u001b[0m\u001b[0;34m,\u001b[0m \u001b[0my_train\u001b[0m\u001b[0;34m,\u001b[0m \u001b[0;34m**\u001b[0m\u001b[0mfit_params\u001b[0m\u001b[0;34m)\u001b[0m\u001b[0;34m\u001b[0m\u001b[0;34m\u001b[0m\u001b[0m\n\u001b[0m\u001b[1;32m    599\u001b[0m \u001b[0;34m\u001b[0m\u001b[0m\n\u001b[1;32m    600\u001b[0m     \u001b[0;32mexcept\u001b[0m \u001b[0mException\u001b[0m \u001b[0;32mas\u001b[0m \u001b[0me\u001b[0m\u001b[0;34m:\u001b[0m\u001b[0;34m\u001b[0m\u001b[0;34m\u001b[0m\u001b[0m\n",
      "\u001b[0;32m/opt/anaconda3/lib/python3.8/site-packages/xgboost/core.py\u001b[0m in \u001b[0;36minner_f\u001b[0;34m(*args, **kwargs)\u001b[0m\n\u001b[1;32m    420\u001b[0m         \u001b[0;32mfor\u001b[0m \u001b[0mk\u001b[0m\u001b[0;34m,\u001b[0m \u001b[0marg\u001b[0m \u001b[0;32min\u001b[0m \u001b[0mzip\u001b[0m\u001b[0;34m(\u001b[0m\u001b[0msig\u001b[0m\u001b[0;34m.\u001b[0m\u001b[0mparameters\u001b[0m\u001b[0;34m,\u001b[0m \u001b[0margs\u001b[0m\u001b[0;34m)\u001b[0m\u001b[0;34m:\u001b[0m\u001b[0;34m\u001b[0m\u001b[0;34m\u001b[0m\u001b[0m\n\u001b[1;32m    421\u001b[0m             \u001b[0mkwargs\u001b[0m\u001b[0;34m[\u001b[0m\u001b[0mk\u001b[0m\u001b[0;34m]\u001b[0m \u001b[0;34m=\u001b[0m \u001b[0marg\u001b[0m\u001b[0;34m\u001b[0m\u001b[0;34m\u001b[0m\u001b[0m\n\u001b[0;32m--> 422\u001b[0;31m         \u001b[0;32mreturn\u001b[0m \u001b[0mf\u001b[0m\u001b[0;34m(\u001b[0m\u001b[0;34m**\u001b[0m\u001b[0mkwargs\u001b[0m\u001b[0;34m)\u001b[0m\u001b[0;34m\u001b[0m\u001b[0;34m\u001b[0m\u001b[0m\n\u001b[0m\u001b[1;32m    423\u001b[0m \u001b[0;34m\u001b[0m\u001b[0m\n\u001b[1;32m    424\u001b[0m     \u001b[0;32mreturn\u001b[0m \u001b[0minner_f\u001b[0m\u001b[0;34m\u001b[0m\u001b[0;34m\u001b[0m\u001b[0m\n",
      "\u001b[0;32m/opt/anaconda3/lib/python3.8/site-packages/xgboost/sklearn.py\u001b[0m in \u001b[0;36mfit\u001b[0;34m(self, X, y, sample_weight, base_margin, eval_set, eval_metric, early_stopping_rounds, verbose, xgb_model, sample_weight_eval_set, feature_weights, callbacks)\u001b[0m\n\u001b[1;32m    595\u001b[0m                 \u001b[0mparams\u001b[0m\u001b[0;34m.\u001b[0m\u001b[0mupdate\u001b[0m\u001b[0;34m(\u001b[0m\u001b[0;34m{\u001b[0m\u001b[0;34m'eval_metric'\u001b[0m\u001b[0;34m:\u001b[0m \u001b[0meval_metric\u001b[0m\u001b[0;34m}\u001b[0m\u001b[0;34m)\u001b[0m\u001b[0;34m\u001b[0m\u001b[0;34m\u001b[0m\u001b[0m\n\u001b[1;32m    596\u001b[0m \u001b[0;34m\u001b[0m\u001b[0m\n\u001b[0;32m--> 597\u001b[0;31m         self._Booster = train(params, train_dmatrix,\n\u001b[0m\u001b[1;32m    598\u001b[0m                               \u001b[0mself\u001b[0m\u001b[0;34m.\u001b[0m\u001b[0mget_num_boosting_rounds\u001b[0m\u001b[0;34m(\u001b[0m\u001b[0;34m)\u001b[0m\u001b[0;34m,\u001b[0m \u001b[0mevals\u001b[0m\u001b[0;34m=\u001b[0m\u001b[0mevals\u001b[0m\u001b[0;34m,\u001b[0m\u001b[0;34m\u001b[0m\u001b[0;34m\u001b[0m\u001b[0m\n\u001b[1;32m    599\u001b[0m                               \u001b[0mearly_stopping_rounds\u001b[0m\u001b[0;34m=\u001b[0m\u001b[0mearly_stopping_rounds\u001b[0m\u001b[0;34m,\u001b[0m\u001b[0;34m\u001b[0m\u001b[0;34m\u001b[0m\u001b[0m\n",
      "\u001b[0;32m/opt/anaconda3/lib/python3.8/site-packages/xgboost/training.py\u001b[0m in \u001b[0;36mtrain\u001b[0;34m(params, dtrain, num_boost_round, evals, obj, feval, maximize, early_stopping_rounds, evals_result, verbose_eval, xgb_model, callbacks)\u001b[0m\n\u001b[1;32m    225\u001b[0m     \u001b[0mBooster\u001b[0m \u001b[0;34m:\u001b[0m \u001b[0ma\u001b[0m \u001b[0mtrained\u001b[0m \u001b[0mbooster\u001b[0m \u001b[0mmodel\u001b[0m\u001b[0;34m\u001b[0m\u001b[0;34m\u001b[0m\u001b[0m\n\u001b[1;32m    226\u001b[0m     \"\"\"\n\u001b[0;32m--> 227\u001b[0;31m     bst = _train_internal(params, dtrain,\n\u001b[0m\u001b[1;32m    228\u001b[0m                           \u001b[0mnum_boost_round\u001b[0m\u001b[0;34m=\u001b[0m\u001b[0mnum_boost_round\u001b[0m\u001b[0;34m,\u001b[0m\u001b[0;34m\u001b[0m\u001b[0;34m\u001b[0m\u001b[0m\n\u001b[1;32m    229\u001b[0m                           \u001b[0mevals\u001b[0m\u001b[0;34m=\u001b[0m\u001b[0mevals\u001b[0m\u001b[0;34m,\u001b[0m\u001b[0;34m\u001b[0m\u001b[0;34m\u001b[0m\u001b[0m\n",
      "\u001b[0;32m/opt/anaconda3/lib/python3.8/site-packages/xgboost/training.py\u001b[0m in \u001b[0;36m_train_internal\u001b[0;34m(params, dtrain, num_boost_round, evals, obj, feval, xgb_model, callbacks, evals_result, maximize, verbose_eval, early_stopping_rounds)\u001b[0m\n\u001b[1;32m    100\u001b[0m         \u001b[0;31m# Skip the first update if it is a recovery step.\u001b[0m\u001b[0;34m\u001b[0m\u001b[0;34m\u001b[0m\u001b[0;34m\u001b[0m\u001b[0m\n\u001b[1;32m    101\u001b[0m         \u001b[0;32mif\u001b[0m \u001b[0mversion\u001b[0m \u001b[0;34m%\u001b[0m \u001b[0;36m2\u001b[0m \u001b[0;34m==\u001b[0m \u001b[0;36m0\u001b[0m\u001b[0;34m:\u001b[0m\u001b[0;34m\u001b[0m\u001b[0;34m\u001b[0m\u001b[0m\n\u001b[0;32m--> 102\u001b[0;31m             \u001b[0mbst\u001b[0m\u001b[0;34m.\u001b[0m\u001b[0mupdate\u001b[0m\u001b[0;34m(\u001b[0m\u001b[0mdtrain\u001b[0m\u001b[0;34m,\u001b[0m \u001b[0mi\u001b[0m\u001b[0;34m,\u001b[0m \u001b[0mobj\u001b[0m\u001b[0;34m)\u001b[0m\u001b[0;34m\u001b[0m\u001b[0;34m\u001b[0m\u001b[0m\n\u001b[0m\u001b[1;32m    103\u001b[0m             \u001b[0mbst\u001b[0m\u001b[0;34m.\u001b[0m\u001b[0msave_rabit_checkpoint\u001b[0m\u001b[0;34m(\u001b[0m\u001b[0;34m)\u001b[0m\u001b[0;34m\u001b[0m\u001b[0;34m\u001b[0m\u001b[0m\n\u001b[1;32m    104\u001b[0m             \u001b[0mversion\u001b[0m \u001b[0;34m+=\u001b[0m \u001b[0;36m1\u001b[0m\u001b[0;34m\u001b[0m\u001b[0;34m\u001b[0m\u001b[0m\n",
      "\u001b[0;32m/opt/anaconda3/lib/python3.8/site-packages/xgboost/core.py\u001b[0m in \u001b[0;36mupdate\u001b[0;34m(self, dtrain, iteration, fobj)\u001b[0m\n\u001b[1;32m   1278\u001b[0m \u001b[0;34m\u001b[0m\u001b[0m\n\u001b[1;32m   1279\u001b[0m         \u001b[0;32mif\u001b[0m \u001b[0mfobj\u001b[0m \u001b[0;32mis\u001b[0m \u001b[0;32mNone\u001b[0m\u001b[0;34m:\u001b[0m\u001b[0;34m\u001b[0m\u001b[0;34m\u001b[0m\u001b[0m\n\u001b[0;32m-> 1280\u001b[0;31m             _check_call(_LIB.XGBoosterUpdateOneIter(self.handle,\n\u001b[0m\u001b[1;32m   1281\u001b[0m                                                     \u001b[0mctypes\u001b[0m\u001b[0;34m.\u001b[0m\u001b[0mc_int\u001b[0m\u001b[0;34m(\u001b[0m\u001b[0miteration\u001b[0m\u001b[0;34m)\u001b[0m\u001b[0;34m,\u001b[0m\u001b[0;34m\u001b[0m\u001b[0;34m\u001b[0m\u001b[0m\n\u001b[1;32m   1282\u001b[0m                                                     dtrain.handle))\n",
      "\u001b[0;31mKeyboardInterrupt\u001b[0m: "
     ]
    }
   ],
   "source": [
    "cvsc=np.zeros(30-2+1)\n",
    "\n",
    "for i in range(2,31):\n",
    "    print(i)\n",
    "    tree=XGBRegressor(max_depth=i,objective='reg:squarederror').fit(Xtrain,ytrain)\n",
    "    cvsc[i-2]=cross_val_score(tree,Xtrain,ytrain,cv=5,scoring='neg_mean_squared_error').mean()"
   ]
  },
  {
   "cell_type": "code",
   "execution_count": null,
   "metadata": {
    "colab": {
     "background_save": true
    },
    "executionInfo": {
     "elapsed": 3,
     "status": "aborted",
     "timestamp": 1638464731003,
     "user": {
      "displayName": "你爹",
      "photoUrl": "https://lh3.googleusercontent.com/a-/AOh14GjCi1okHI2YGXN7X-svX4rhe1BazxDJYLw75LJ42Q=s64",
      "userId": "02963737422131159242"
     },
     "user_tz": 300
    },
    "id": "sZDsoq1kc3-i"
   },
   "outputs": [],
   "source": [
    "plt.plot(np.linspace(2,30,29),cvsc)\n",
    "plt.scatter(np.linspace(2,30,29),cvsc)\n",
    "plt.xlabel('depth')\n",
    "plt.ylabel('negative mean squared error')\n",
    "plt.title('negative mean squared error VS depth')\n",
    "plt.show()"
   ]
  },
  {
   "cell_type": "code",
   "execution_count": null,
   "metadata": {
    "colab": {
     "background_save": true
    },
    "executionInfo": {
     "elapsed": 4,
     "status": "aborted",
     "timestamp": 1638464731004,
     "user": {
      "displayName": "你爹",
      "photoUrl": "https://lh3.googleusercontent.com/a-/AOh14GjCi1okHI2YGXN7X-svX4rhe1BazxDJYLw75LJ42Q=s64",
      "userId": "02963737422131159242"
     },
     "user_tz": 300
    },
    "id": "M2XcZ7afeteU"
   },
   "outputs": [],
   "source": [
    "best_depth=np.argmax(cvsc)+2\n",
    "print(best_depth)\n"
   ]
  },
  {
   "cell_type": "code",
   "execution_count": null,
   "metadata": {
    "colab": {
     "background_save": true
    },
    "executionInfo": {
     "elapsed": 4,
     "status": "aborted",
     "timestamp": 1638464731004,
     "user": {
      "displayName": "你爹",
      "photoUrl": "https://lh3.googleusercontent.com/a-/AOh14GjCi1okHI2YGXN7X-svX4rhe1BazxDJYLw75LJ42Q=s64",
      "userId": "02963737422131159242"
     },
     "user_tz": 300
    },
    "id": "u5EPiiM4pXnN"
   },
   "outputs": [],
   "source": [
    "best_depth = 11"
   ]
  },
  {
   "cell_type": "code",
   "execution_count": null,
   "metadata": {
    "colab": {
     "background_save": true
    },
    "executionInfo": {
     "elapsed": 5,
     "status": "aborted",
     "timestamp": 1638464731005,
     "user": {
      "displayName": "你爹",
      "photoUrl": "https://lh3.googleusercontent.com/a-/AOh14GjCi1okHI2YGXN7X-svX4rhe1BazxDJYLw75LJ42Q=s64",
      "userId": "02963737422131159242"
     },
     "user_tz": 300
    },
    "id": "z6wU0C0DpfFn"
   },
   "outputs": [],
   "source": [
    "cvsc=np.zeros(100)\n",
    "# fine tune learing rate\n",
    "for i in range(100):\n",
    "    print(i)\n",
    "    tree=XGBRegressor(max_depth=best_depth,learning_rate=i/100,objective='reg:squarederror').fit(Xtrain,ytrain)\n",
    "    cvsc[i]=cross_val_score(tree,Xtrain,ytrain,cv=5,scoring='neg_mean_squared_error').mean()"
   ]
  },
  {
   "cell_type": "code",
   "execution_count": null,
   "metadata": {
    "colab": {
     "background_save": true
    },
    "executionInfo": {
     "elapsed": 5,
     "status": "aborted",
     "timestamp": 1638464731005,
     "user": {
      "displayName": "你爹",
      "photoUrl": "https://lh3.googleusercontent.com/a-/AOh14GjCi1okHI2YGXN7X-svX4rhe1BazxDJYLw75LJ42Q=s64",
      "userId": "02963737422131159242"
     },
     "user_tz": 300
    },
    "id": "VknlUlu2fuiR"
   },
   "outputs": [],
   "source": [
    "plt.plot(np.linspace(0,1,100),cvsc)\n",
    "plt.scatter(np.linspace(0,1,100),cvsc)\n",
    "plt.xlabel('learning rate')\n",
    "plt.ylabel('negative mean squared error')\n",
    "plt.title(f'negative mean squared error VS learning rate (fixed at fine tuned max depth={best_depth})')\n",
    "plt.show()"
   ]
  },
  {
   "cell_type": "code",
   "execution_count": null,
   "metadata": {
    "colab": {
     "background_save": true
    },
    "executionInfo": {
     "elapsed": 5,
     "status": "aborted",
     "timestamp": 1638464731006,
     "user": {
      "displayName": "你爹",
      "photoUrl": "https://lh3.googleusercontent.com/a-/AOh14GjCi1okHI2YGXN7X-svX4rhe1BazxDJYLw75LJ42Q=s64",
      "userId": "02963737422131159242"
     },
     "user_tz": 300
    },
    "id": "sgrY-e9Lro4e"
   },
   "outputs": [],
   "source": [
    "best_lr = np.argmax(cvsc)/100\n",
    "print(best_lr)"
   ]
  },
  {
   "cell_type": "code",
   "execution_count": null,
   "metadata": {
    "colab": {
     "background_save": true
    },
    "executionInfo": {
     "elapsed": 5,
     "status": "aborted",
     "timestamp": 1638464731006,
     "user": {
      "displayName": "你爹",
      "photoUrl": "https://lh3.googleusercontent.com/a-/AOh14GjCi1okHI2YGXN7X-svX4rhe1BazxDJYLw75LJ42Q=s64",
      "userId": "02963737422131159242"
     },
     "user_tz": 300
    },
    "id": "7XHO_mYBud74"
   },
   "outputs": [],
   "source": [
    "\n",
    "cvsc3=np.zeros(30)\n",
    "\n",
    "for i in range(30):\n",
    "    print(f\"cross validating gamma = {i/30}\")\n",
    "    tree=XGBRegressor(max_depth=best_depth,learning_rate=best_lr,gamma=i/30,objective='reg:squarederror').fit(Xtrain,ytrain)\n",
    "    cvsc3[i]=cross_val_score(tree,Xtrain,ytrain,cv=10,scoring='neg_mean_squared_error').mean()"
   ]
  },
  {
   "cell_type": "code",
   "execution_count": null,
   "metadata": {
    "colab": {
     "background_save": true
    },
    "executionInfo": {
     "elapsed": 5,
     "status": "aborted",
     "timestamp": 1638464731006,
     "user": {
      "displayName": "你爹",
      "photoUrl": "https://lh3.googleusercontent.com/a-/AOh14GjCi1okHI2YGXN7X-svX4rhe1BazxDJYLw75LJ42Q=s64",
      "userId": "02963737422131159242"
     },
     "user_tz": 300
    },
    "id": "F11H6gavy455"
   },
   "outputs": [],
   "source": [
    "plt.plot(np.linspace(0,1,30),cvsc3)\n",
    "plt.scatter(np.linspace(0,1,30),cvsc3)\n",
    "plt.xlabel('gamma')\n",
    "plt.ylabel('negative mean squared error')\n",
    "plt.title(f'negative mean squared err VS gamma (fixed at fine tuned max depth={best_depth}, learning rate = {best_lr})')\n",
    "plt.show()"
   ]
  },
  {
   "cell_type": "code",
   "execution_count": null,
   "metadata": {
    "colab": {
     "background_save": true
    },
    "executionInfo": {
     "elapsed": 6,
     "status": "aborted",
     "timestamp": 1638464731007,
     "user": {
      "displayName": "你爹",
      "photoUrl": "https://lh3.googleusercontent.com/a-/AOh14GjCi1okHI2YGXN7X-svX4rhe1BazxDJYLw75LJ42Q=s64",
      "userId": "02963737422131159242"
     },
     "user_tz": 300
    },
    "id": "mhcRtS7FzDka"
   },
   "outputs": [],
   "source": [
    "best_gamma = np.argmax(cvsc3)/20\n",
    "print(best_gamma)"
   ]
  },
  {
   "cell_type": "code",
   "execution_count": null,
   "metadata": {
    "colab": {
     "background_save": true
    },
    "executionInfo": {
     "elapsed": 6,
     "status": "aborted",
     "timestamp": 1638464731007,
     "user": {
      "displayName": "你爹",
      "photoUrl": "https://lh3.googleusercontent.com/a-/AOh14GjCi1okHI2YGXN7X-svX4rhe1BazxDJYLw75LJ42Q=s64",
      "userId": "02963737422131159242"
     },
     "user_tz": 300
    },
    "id": "q_WxahyXzH2p"
   },
   "outputs": [],
   "source": [
    "xgb_best =XGBRegressor(max_depth=best_depth,gamma=best_gamma,learning_rate=best_lr,random_state=0)\n",
    "xgb_best.fit(Xtrain,ytrain)\n",
    "ypred_bestxgb = xgb_best.predict(Xtest)"
   ]
  },
  {
   "cell_type": "code",
   "execution_count": null,
   "metadata": {
    "colab": {
     "background_save": true
    },
    "executionInfo": {
     "elapsed": 6,
     "status": "aborted",
     "timestamp": 1638464731007,
     "user": {
      "displayName": "你爹",
      "photoUrl": "https://lh3.googleusercontent.com/a-/AOh14GjCi1okHI2YGXN7X-svX4rhe1BazxDJYLw75LJ42Q=s64",
      "userId": "02963737422131159242"
     },
     "user_tz": 300
    },
    "id": "zM59IlF50RRH"
   },
   "outputs": [],
   "source": []
  },
  {
   "cell_type": "code",
   "execution_count": null,
   "metadata": {
    "colab": {
     "background_save": true
    },
    "executionInfo": {
     "elapsed": 7,
     "status": "aborted",
     "timestamp": 1638464731008,
     "user": {
      "displayName": "你爹",
      "photoUrl": "https://lh3.googleusercontent.com/a-/AOh14GjCi1okHI2YGXN7X-svX4rhe1BazxDJYLw75LJ42Q=s64",
      "userId": "02963737422131159242"
     },
     "user_tz": 300
    },
    "id": "2HS5lfB0zclm"
   },
   "outputs": [],
   "source": [
    "# plt.plot(data['date'],y, label =\"actual data(ytest)\")\n",
    "#ax = sns.lineplot(Xtest['date'],ypred_bestxgb, label =\"predicted data\")\n",
    "plt.plot(data['date'],y, label =\"actual data\")\n",
    "ax = sns.lineplot(X_test['date'],ytest, label =\"predicted data\")\n",
    "plt.title(\"XGB Prediction VS Actual\")\n",
    "plt.xlabel('Date')\n",
    "plt.ylabel('Price')\n",
    "#plt.scatter(Xtest['date'],ypred_bestxgb, label =\"predicted data\")\n",
    "plt.show()"
   ]
  },
  {
   "cell_type": "code",
   "execution_count": null,
   "metadata": {
    "colab": {
     "background_save": true
    },
    "executionInfo": {
     "elapsed": 7,
     "status": "aborted",
     "timestamp": 1638464731008,
     "user": {
      "displayName": "你爹",
      "photoUrl": "https://lh3.googleusercontent.com/a-/AOh14GjCi1okHI2YGXN7X-svX4rhe1BazxDJYLw75LJ42Q=s64",
      "userId": "02963737422131159242"
     },
     "user_tz": 300
    },
    "id": "GfhUVsI8pisZ"
   },
   "outputs": [],
   "source": []
  },
  {
   "cell_type": "code",
   "execution_count": null,
   "metadata": {},
   "outputs": [],
   "source": []
  },
  {
   "cell_type": "code",
   "execution_count": null,
   "metadata": {},
   "outputs": [],
   "source": [
    "data.head()"
   ]
  },
  {
   "cell_type": "code",
   "execution_count": null,
   "metadata": {},
   "outputs": [],
   "source": [
    "# Prepare data\n",
    "data['year'] = [d.year for d in data.date]\n",
    "data['month'] = [d.strftime('%b') for d in data.date]\n",
    "years = data['year'].unique()"
   ]
  },
  {
   "cell_type": "code",
   "execution_count": null,
   "metadata": {},
   "outputs": [],
   "source": [
    "# Prep Colors\n",
    "import matplotlib as mpl\n",
    "np.random.seed(100)\n",
    "mycolors = np.random.choice(list(mpl.colors.XKCD_COLORS.keys()), len(years), replace=False)"
   ]
  },
  {
   "cell_type": "code",
   "execution_count": 109,
   "metadata": {},
   "outputs": [
    {
     "data": {
      "text/plain": [
       "[<matplotlib.lines.Line2D at 0x7f991b3aa6d0>]"
      ]
     },
     "execution_count": 109,
     "metadata": {},
     "output_type": "execute_result"
    },
    {
     "data": {
      "image/png": "[encoded data removed]",
      "text/plain": [
       "<Figure size 1080x720 with 1 Axes>"
      ]
     },
     "metadata": {
      "needs_background": "light"
     },
     "output_type": "display_data"
    }
   ],
   "source": [
    "plt.plot(data['date'],y, label =\"actual data\")"
   ]
  },
  {
   "cell_type": "code",
   "execution_count": 114,
   "metadata": {},
   "outputs": [
    {
     "data": {
      "image/png": "[encoded data removed]",
      "text/plain": [
       "<Figure size 1920x600 with 1 Axes>"
      ]
     },
     "metadata": {
      "needs_background": "light"
     },
     "output_type": "display_data"
    }
   ],
   "source": [
    "# Plot\n",
    "x = data['date'].values\n",
    "y1 = data['IBM_close'].values\n",
    "fig, ax = plt.subplots(1, 1, figsize=(16,5), dpi= 120)\n",
    "plt.fill_between(x, y1=y1, y2=-y1, alpha=0.5, linewidth=2, color='seagreen')\n",
    "plt.ylim(-200, 200)\n",
    "plt.title('IBM closing price (two side view)', fontsize=16)\n",
    "plt.hlines(y=0, xmin=np.min(data.date), xmax=np.max(data.date), linewidth=.5)\n",
    "plt.show()"
   ]
  },
  {
   "cell_type": "code",
   "execution_count": 115,
   "metadata": {
    "scrolled": true
   },
   "outputs": [
    {
     "data": {
      "image/png": "[encoded data removed]",
      "text/plain": [
       "<Figure size 720x432 with 1 Axes>"
      ]
     },
     "metadata": {
      "needs_background": "light"
     },
     "output_type": "display_data"
    }
   ],
   "source": [
    "#Hisogram of closing price\n",
    "plt.figure(figsize=(10,6))\n",
    "df_close = data['IBM_close']\n",
    "df_close.plot(style='k.',kind='hist')\n",
    "plt.title('Hisogram of closing price')\n",
    "plt.show()"
   ]
  },
  {
   "cell_type": "markdown",
   "metadata": {},
   "source": [
    "Ho: It is non-stationary\n",
    "\n",
    "H1: It is stationary\n",
    "\n",
    "\n",
    "If we fail to reject the null hypothesis, \n",
    "we can say that the series is non-stationary, which means that the series can be linear."
   ]
  },
  {
   "cell_type": "code",
   "execution_count": 116,
   "metadata": {
    "scrolled": true
   },
   "outputs": [
    {
     "data": {
      "image/png": "[encoded data removed]",
      "text/plain": [
       "<Figure size 1080x720 with 1 Axes>"
      ]
     },
     "metadata": {
      "needs_background": "light"
     },
     "output_type": "display_data"
    },
    {
     "name": "stdout",
     "output_type": "stream",
     "text": [
      "Results of dickey fuller test\n",
      "Test Statistics                  -2.935496\n",
      "p-value                           0.041373\n",
      "No. of lags used                 25.000000\n",
      "Number of observations used    2460.000000\n",
      "critical value (1%)              -3.433011\n",
      "critical value (5%)              -2.862716\n",
      "critical value (10%)             -2.567396\n",
      "dtype: float64\n"
     ]
    }
   ],
   "source": [
    "from statsmodels.tsa.stattools import adfuller\n",
    "def test_stationarity(timeseries):\n",
    "    #Determing rolling statistics\n",
    "    rolmean = timeseries.rolling(12).mean()\n",
    "    rolstd = timeseries.rolling(12).std()\n",
    "    #Plot rolling statistics:\n",
    "    plt.plot(timeseries, color='yellow',label='Original')\n",
    "    plt.plot(rolmean, color='red', label='Rolling Mean')\n",
    "    plt.plot(rolstd, color='black', label = 'Rolling Std')\n",
    "    plt.legend(loc='best')\n",
    "    plt.title('Rolling Mean and Standard Deviation')\n",
    "    plt.show(block=False)\n",
    "    print(\"Results of dickey fuller test\")\n",
    "    adft = adfuller(timeseries,autolag='AIC')\n",
    "    # output for dft will give us without defining what the values are.\n",
    "    #hence we manually write what values does it explains using a for loop\n",
    "    output = pd.Series(adft[0:4],index=['Test Statistics','p-value','No. of lags used','Number of observations used'])\n",
    "    for key,values in adft[4].items():\n",
    "        output['critical value (%s)'%key] =  values\n",
    "    print(output)\n",
    "\n",
    "test_stationarity(data['IBM_close'])"
   ]
  },
  {
   "cell_type": "markdown",
   "metadata": {},
   "source": [
    "P-value < 0.05, reject H0 and conclude that the data is stationary;"
   ]
  },
  {
   "cell_type": "code",
   "execution_count": null,
   "metadata": {},
   "outputs": [],
   "source": []
  },
  {
   "cell_type": "code",
   "execution_count": 1,
   "metadata": {},
   "outputs": [],
   "source": [
    "import seaborn as sns\n",
    "from pylab import rcParams\n",
    "import matplotlib.pyplot as plt\n",
    "from matplotlib import rc\n",
    "\n",
    "import pandas as pd\n",
    "import numpy as np\n",
    "from tqdm.notebook import tqdm\n",
    "import pytorch_lightning as pl\n",
    "from sklearn.preprocessing import MinMaxScaler\n",
    "\n",
    "import torch\n",
    "import torch.autograd as autograd\n",
    "import torch.nn as nn\n",
    "import torch.nn.functional as F\n",
    "import torch.optim as optim\n",
    "from torch.utils.data import Dataset, DataLoader\n",
    "\n"
   ]
  },
  {
   "cell_type": "code",
   "execution_count": 2,
   "metadata": {},
   "outputs": [],
   "source": [
    "%matplotlib inline\n",
    "%config InlineBackend.figure_format='retina'\n",
    "\n",
    "sns.set(style='whitegrid',palette='muted', font_scale=1.2)\n",
    "\n",
    "HAPPY_COLORS_PALETTE =['#01BEFE','#FFDD00','#FF7D00','#FF006D',\n",
    "                      '#ADFF02','#8F00FF']\n",
    "sns.set_palette(sns.color_palette(HAPPY_COLORS_PALETTE))\n",
    "\n",
    "rcParams['figure.figsize'] =12,8\n",
    "\n",
    "tqdm.pandas()"
   ]
  },
  {
   "cell_type": "code",
   "execution_count": null,
   "metadata": {},
   "outputs": [],
   "source": []
  },
  {
   "cell_type": "code",
   "execution_count": null,
   "metadata": {},
   "outputs": [],
   "source": []
  },
  {
   "cell_type": "code",
   "execution_count": null,
   "metadata": {},
   "outputs": [],
   "source": []
  },
  {
   "cell_type": "code",
   "execution_count": null,
   "metadata": {},
   "outputs": [],
   "source": []
  },
  {
   "cell_type": "code",
   "execution_count": null,
   "metadata": {},
   "outputs": [],
   "source": []
  },
  {
   "cell_type": "code",
   "execution_count": null,
   "metadata": {},
   "outputs": [],
   "source": []
  },
  {
   "cell_type": "code",
   "execution_count": null,
   "metadata": {},
   "outputs": [],
   "source": []
  },
  {
   "cell_type": "code",
   "execution_count": null,
   "metadata": {},
   "outputs": [],
   "source": []
  },
  {
   "cell_type": "code",
   "execution_count": null,
   "metadata": {},
   "outputs": [],
   "source": []
  },
  {
   "cell_type": "code",
   "execution_count": null,
   "metadata": {},
   "outputs": [],
   "source": []
  },
  {
   "cell_type": "code",
   "execution_count": null,
   "metadata": {},
   "outputs": [],
   "source": []
  },
  {
   "cell_type": "code",
   "execution_count": null,
   "metadata": {},
   "outputs": [],
   "source": []
  },
  {
   "cell_type": "code",
   "execution_count": null,
   "metadata": {},
   "outputs": [],
   "source": []
  },
  {
   "cell_type": "code",
   "execution_count": null,
   "metadata": {},
   "outputs": [],
   "source": []
  },
  {
   "cell_type": "code",
   "execution_count": null,
   "metadata": {},
   "outputs": [],
   "source": []
  },
  {
   "cell_type": "code",
   "execution_count": null,
   "metadata": {},
   "outputs": [],
   "source": []
  },
  {
   "cell_type": "code",
   "execution_count": null,
   "metadata": {},
   "outputs": [],
   "source": []
  },
  {
   "cell_type": "code",
   "execution_count": null,
   "metadata": {},
   "outputs": [],
   "source": []
  },
  {
   "cell_type": "code",
   "execution_count": null,
   "metadata": {},
   "outputs": [],
   "source": []
  },
  {
   "cell_type": "code",
   "execution_count": null,
   "metadata": {},
   "outputs": [],
   "source": []
  },
  {
   "cell_type": "code",
   "execution_count": null,
   "metadata": {},
   "outputs": [],
   "source": []
  },
  {
   "cell_type": "code",
   "execution_count": null,
   "metadata": {},
   "outputs": [],
   "source": []
  },
  {
   "cell_type": "code",
   "execution_count": null,
   "metadata": {},
   "outputs": [],
   "source": []
  },
  {
   "cell_type": "code",
   "execution_count": null,
   "metadata": {},
   "outputs": [],
   "source": []
  },
  {
   "cell_type": "code",
   "execution_count": null,
   "metadata": {},
   "outputs": [],
   "source": []
  },
  {
   "cell_type": "code",
   "execution_count": null,
   "metadata": {},
   "outputs": [],
   "source": []
  },
  {
   "cell_type": "code",
   "execution_count": null,
   "metadata": {},
   "outputs": [],
   "source": []
  },
  {
   "cell_type": "code",
   "execution_count": null,
   "metadata": {},
   "outputs": [],
   "source": []
  },
  {
   "cell_type": "code",
   "execution_count": null,
   "metadata": {},
   "outputs": [],
   "source": []
  },
  {
   "cell_type": "code",
   "execution_count": null,
   "metadata": {},
   "outputs": [],
   "source": []
  },
  {
   "cell_type": "code",
   "execution_count": null,
   "metadata": {},
   "outputs": [],
   "source": []
  },
  {
   "cell_type": "code",
   "execution_count": null,
   "metadata": {},
   "outputs": [],
   "source": []
  },
  {
   "cell_type": "code",
   "execution_count": null,
   "metadata": {},
   "outputs": [],
   "source": []
  },
  {
   "cell_type": "code",
   "execution_count": null,
   "metadata": {},
   "outputs": [],
   "source": []
  },
  {
   "cell_type": "code",
   "execution_count": null,
   "metadata": {},
   "outputs": [],
   "source": []
  },
  {
   "cell_type": "code",
   "execution_count": null,
   "metadata": {},
   "outputs": [],
   "source": []
  },
  {
   "cell_type": "code",
   "execution_count": null,
   "metadata": {},
   "outputs": [],
   "source": []
  }
 ],
 "metadata": {
  "colab": {
   "collapsed_sections": [],
   "name": "ML_Project_Stocks.ipynb",
   "version": ""
  },
  "kernelspec": {
   "display_name": "Python 3",
   "language": "python",
   "name": "python3"
  },
  "language_info": {
   "codemirror_mode": {
    "name": "ipython",
    "version": 3
   },
   "file_extension": ".py",
   "mimetype": "text/x-python",
   "name": "python",
   "nbconvert_exporter": "python",
   "pygments_lexer": "ipython3",
   "version": "3.8.8"
  }
 },
 "nbformat": 4,
 "nbformat_minor": 1
}
